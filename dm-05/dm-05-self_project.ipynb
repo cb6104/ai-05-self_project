{
 "cells": [
  {
   "cell_type": "markdown",
   "id": "extraordinary-correlation",
   "metadata": {},
   "source": [
    "### Get data from Reddit:"
   ]
  },
  {
   "cell_type": "code",
   "execution_count": 1,
   "id": "inappropriate-indian",
   "metadata": {},
   "outputs": [],
   "source": [
    "import praw\n",
    "import pandas as pd\n",
    "import numpy as np\n",
    "import matplotlib.pyplot as plt"
   ]
  },
  {
   "cell_type": "code",
   "execution_count": 2,
   "id": "proud-instruction",
   "metadata": {},
   "outputs": [],
   "source": [
    "def load_data_reddit():\n",
    "    reddit = praw.Reddit(client_id='U-Io_Nq11-NMOA', client_secret='U7fed9PeISLyTTFIkMxRrsFHm-vkDw', \n",
    "                         user_agent='personal_self_project')\n",
    "    \n",
    "    topics = ['MachineLearning', 'DeepLearning', 'ImageProcessing', 'DataAnalysis', 'Python']\n",
    "    \n",
    "    posts = []\n",
    "    for topic in topics:\n",
    "        ml_subreddit = reddit.subreddit(topic)\n",
    "        for post in ml_subreddit.hot(limit=100):\n",
    "            if post.selftext!=\"\":\n",
    "                posts.append([post.subreddit, post.selftext])\n",
    "    posts = pd.DataFrame(posts, columns=['subreddit', 'body'])\n",
    "    display(posts.head())\n",
    "    \n",
    "    posts.to_csv(\"dm-05-self_project.csv\")\n",
    "    return posts"
   ]
  },
  {
   "cell_type": "code",
   "execution_count": 3,
   "id": "czech-merchant",
   "metadata": {},
   "outputs": [
    {
     "name": "stderr",
     "output_type": "stream",
     "text": [
      "Version 7.0.0 of praw is outdated. Version 7.2.0 was released Wednesday February 24, 2021.\n"
     ]
    },
    {
     "data": {
      "text/html": [
       "<div>\n",
       "<style scoped>\n",
       "    .dataframe tbody tr th:only-of-type {\n",
       "        vertical-align: middle;\n",
       "    }\n",
       "\n",
       "    .dataframe tbody tr th {\n",
       "        vertical-align: top;\n",
       "    }\n",
       "\n",
       "    .dataframe thead th {\n",
       "        text-align: right;\n",
       "    }\n",
       "</style>\n",
       "<table border=\"1\" class=\"dataframe\">\n",
       "  <thead>\n",
       "    <tr style=\"text-align: right;\">\n",
       "      <th></th>\n",
       "      <th>subreddit</th>\n",
       "      <th>body</th>\n",
       "    </tr>\n",
       "  </thead>\n",
       "  <tbody>\n",
       "    <tr>\n",
       "      <th>0</th>\n",
       "      <td>MachineLearning</td>\n",
       "      <td>This is a place to share machine learning rese...</td>\n",
       "    </tr>\n",
       "    <tr>\n",
       "      <th>1</th>\n",
       "      <td>MachineLearning</td>\n",
       "      <td>Project development presentation: [https://www...</td>\n",
       "    </tr>\n",
       "    <tr>\n",
       "      <th>2</th>\n",
       "      <td>MachineLearning</td>\n",
       "      <td>&amp;#x200B;\\n\\nhttps://reddit.com/link/nds1x8/vid...</td>\n",
       "    </tr>\n",
       "    <tr>\n",
       "      <th>3</th>\n",
       "      <td>MachineLearning</td>\n",
       "      <td>I created a repository of pretrained models in...</td>\n",
       "    </tr>\n",
       "    <tr>\n",
       "      <th>4</th>\n",
       "      <td>MachineLearning</td>\n",
       "      <td>I have often seen the \"representor theorem\" me...</td>\n",
       "    </tr>\n",
       "  </tbody>\n",
       "</table>\n",
       "</div>"
      ],
      "text/plain": [
       "         subreddit                                               body\n",
       "0  MachineLearning  This is a place to share machine learning rese...\n",
       "1  MachineLearning  Project development presentation: [https://www...\n",
       "2  MachineLearning  &#x200B;\\n\\nhttps://reddit.com/link/nds1x8/vid...\n",
       "3  MachineLearning  I created a repository of pretrained models in...\n",
       "4  MachineLearning  I have often seen the \"representor theorem\" me..."
      ]
     },
     "metadata": {},
     "output_type": "display_data"
    },
    {
     "name": "stdout",
     "output_type": "stream",
     "text": [
      "Load data from Reddit.\n"
     ]
    }
   ],
   "source": [
    "try:\n",
    "    load_data_reddit()\n",
    "    print(\"Load data from Reddit.\")\n",
    "except:\n",
    "    print(\"Reddit API cannot be used. Let's use the CSV file.\")"
   ]
  },
  {
   "cell_type": "markdown",
   "id": "verbal-championship",
   "metadata": {},
   "source": [
    "subreddit = reddit.subreddit('Nootropics')\n",
    "top_subreddit = subreddit.top(limit=20)\n",
    "print(list(top_subreddit))"
   ]
  },
  {
   "cell_type": "markdown",
   "id": "judicial-above",
   "metadata": {},
   "source": [
    "### Read data:"
   ]
  },
  {
   "cell_type": "code",
   "execution_count": 4,
   "id": "thousand-month",
   "metadata": {},
   "outputs": [
    {
     "data": {
      "text/html": [
       "<div>\n",
       "<style scoped>\n",
       "    .dataframe tbody tr th:only-of-type {\n",
       "        vertical-align: middle;\n",
       "    }\n",
       "\n",
       "    .dataframe tbody tr th {\n",
       "        vertical-align: top;\n",
       "    }\n",
       "\n",
       "    .dataframe thead th {\n",
       "        text-align: right;\n",
       "    }\n",
       "</style>\n",
       "<table border=\"1\" class=\"dataframe\">\n",
       "  <thead>\n",
       "    <tr style=\"text-align: right;\">\n",
       "      <th></th>\n",
       "      <th>Unnamed: 0</th>\n",
       "      <th>subreddit</th>\n",
       "      <th>body</th>\n",
       "    </tr>\n",
       "  </thead>\n",
       "  <tbody>\n",
       "    <tr>\n",
       "      <th>0</th>\n",
       "      <td>0</td>\n",
       "      <td>MachineLearning</td>\n",
       "      <td>This is a place to share machine learning rese...</td>\n",
       "    </tr>\n",
       "    <tr>\n",
       "      <th>1</th>\n",
       "      <td>1</td>\n",
       "      <td>MachineLearning</td>\n",
       "      <td>Project development presentation: [https://www...</td>\n",
       "    </tr>\n",
       "    <tr>\n",
       "      <th>2</th>\n",
       "      <td>2</td>\n",
       "      <td>MachineLearning</td>\n",
       "      <td>&amp;#x200B;\\n\\nhttps://reddit.com/link/nds1x8/vid...</td>\n",
       "    </tr>\n",
       "    <tr>\n",
       "      <th>3</th>\n",
       "      <td>3</td>\n",
       "      <td>MachineLearning</td>\n",
       "      <td>I created a repository of pretrained models in...</td>\n",
       "    </tr>\n",
       "    <tr>\n",
       "      <th>4</th>\n",
       "      <td>4</td>\n",
       "      <td>MachineLearning</td>\n",
       "      <td>I have often seen the \"representor theorem\" me...</td>\n",
       "    </tr>\n",
       "  </tbody>\n",
       "</table>\n",
       "</div>"
      ],
      "text/plain": [
       "   Unnamed: 0        subreddit  \\\n",
       "0           0  MachineLearning   \n",
       "1           1  MachineLearning   \n",
       "2           2  MachineLearning   \n",
       "3           3  MachineLearning   \n",
       "4           4  MachineLearning   \n",
       "\n",
       "                                                body  \n",
       "0  This is a place to share machine learning rese...  \n",
       "1  Project development presentation: [https://www...  \n",
       "2  &#x200B;\\n\\nhttps://reddit.com/link/nds1x8/vid...  \n",
       "3  I created a repository of pretrained models in...  \n",
       "4  I have often seen the \"representor theorem\" me...  "
      ]
     },
     "metadata": {},
     "output_type": "display_data"
    }
   ],
   "source": [
    "df = pd.read_csv(\"dm-05-self_project.csv\", header=0)\n",
    "display(df.head())"
   ]
  },
  {
   "cell_type": "markdown",
   "id": "suitable-entity",
   "metadata": {},
   "source": [
    "### Conduct analysis:"
   ]
  },
  {
   "cell_type": "markdown",
   "id": "secret-tonight",
   "metadata": {},
   "source": [
    "#### Import libraries:"
   ]
  },
  {
   "cell_type": "code",
   "execution_count": 5,
   "id": "similar-aquatic",
   "metadata": {},
   "outputs": [],
   "source": [
    "from sklearn.feature_extraction.text import CountVectorizer\n",
    "from sklearn.naive_bayes import MultinomialNB\n",
    "from sklearn.model_selection import train_test_split\n",
    "from sklearn.metrics import accuracy_score\n",
    "import re"
   ]
  },
  {
   "cell_type": "markdown",
   "id": "advance-brake",
   "metadata": {},
   "source": [
    "#### Obtain explanatory and response variables:"
   ]
  },
  {
   "cell_type": "code",
   "execution_count": 6,
   "id": "tight-tribe",
   "metadata": {},
   "outputs": [],
   "source": [
    "X = df['body']\n",
    "y = df['subreddit']"
   ]
  },
  {
   "cell_type": "markdown",
   "id": "aboriginal-dollar",
   "metadata": {},
   "source": [
    "#### Split train and test sets:"
   ]
  },
  {
   "cell_type": "code",
   "execution_count": 7,
   "id": "handmade-paper",
   "metadata": {},
   "outputs": [],
   "source": [
    "X_train, X_test, y_train, y_test = train_test_split(X, y, test_size=0.15)"
   ]
  },
  {
   "cell_type": "markdown",
   "id": "monetary-surprise",
   "metadata": {},
   "source": [
    "### Using Naive Bayes Classifier:"
   ]
  },
  {
   "cell_type": "markdown",
   "id": "light-vinyl",
   "metadata": {},
   "source": [
    "#### Collect words  "
   ]
  },
  {
   "cell_type": "code",
   "execution_count": 8,
   "id": "productive-commitment",
   "metadata": {},
   "outputs": [
    {
     "name": "stdout",
     "output_type": "stream",
     "text": [
      "Vocabulary size: 5662\n",
      "['00', '000', '01', '01045', '01060', '01595', '020', '02021', '02579', '02667']\n"
     ]
    }
   ],
   "source": [
    "vectorizer = CountVectorizer()\n",
    "vectorizer.fit(X_train)\n",
    "vocab = vectorizer. get_feature_names()\n",
    "print('Vocabulary size:', len(vocab))\n",
    "print(vocab[:10])"
   ]
  },
  {
   "cell_type": "markdown",
   "id": "distinguished-stuff",
   "metadata": {},
   "source": [
    "#### Make BoW:"
   ]
  },
  {
   "cell_type": "code",
   "execution_count": 9,
   "id": "obvious-dance",
   "metadata": {},
   "outputs": [
    {
     "name": "stdout",
     "output_type": "stream",
     "text": [
      "X_train_bow:\n",
      "<311x5662 sparse matrix of type '<class 'numpy.int64'>'\n",
      "\twith 22603 stored elements in Compressed Sparse Row format>\n",
      "X_test_bow:\n",
      "<56x5662 sparse matrix of type '<class 'numpy.int64'>'\n",
      "\twith 3926 stored elements in Compressed Sparse Row format>\n"
     ]
    }
   ],
   "source": [
    "X_train_bow = vectorizer.transform(X_train)\n",
    "X_test_bow = vectorizer.transform(X_test)\n",
    "print('X_train_bow:')\n",
    "print(repr(X_train_bow))\n",
    "print('X_test_bow:')\n",
    "print(repr(X_test_bow))"
   ]
  },
  {
   "cell_type": "markdown",
   "id": "suited-table",
   "metadata": {},
   "source": [
    "#### Display BoW:"
   ]
  },
  {
   "cell_type": "code",
   "execution_count": 10,
   "id": "impressive-calculator",
   "metadata": {},
   "outputs": [
    {
     "data": {
      "text/html": [
       "<div>\n",
       "<style scoped>\n",
       "    .dataframe tbody tr th:only-of-type {\n",
       "        vertical-align: middle;\n",
       "    }\n",
       "\n",
       "    .dataframe tbody tr th {\n",
       "        vertical-align: top;\n",
       "    }\n",
       "\n",
       "    .dataframe thead th {\n",
       "        text-align: right;\n",
       "    }\n",
       "</style>\n",
       "<table border=\"1\" class=\"dataframe\">\n",
       "  <thead>\n",
       "    <tr style=\"text-align: right;\">\n",
       "      <th></th>\n",
       "      <th>00</th>\n",
       "      <th>000</th>\n",
       "      <th>01</th>\n",
       "      <th>01045</th>\n",
       "      <th>01060</th>\n",
       "      <th>01595</th>\n",
       "      <th>020</th>\n",
       "      <th>02021</th>\n",
       "      <th>02579</th>\n",
       "      <th>02667</th>\n",
       "      <th>...</th>\n",
       "      <th>zipped</th>\n",
       "      <th>zoi9t5v223z61</th>\n",
       "      <th>zoom</th>\n",
       "      <th>zooming</th>\n",
       "      <th>zotero</th>\n",
       "      <th>zub3yv6im9c11</th>\n",
       "      <th>zukin</th>\n",
       "      <th>zurich</th>\n",
       "      <th>zvdxsv1</th>\n",
       "      <th>zvdxsv1_qdo9jpyvz0msxq</th>\n",
       "    </tr>\n",
       "    <tr>\n",
       "      <th>subreddit</th>\n",
       "      <th></th>\n",
       "      <th></th>\n",
       "      <th></th>\n",
       "      <th></th>\n",
       "      <th></th>\n",
       "      <th></th>\n",
       "      <th></th>\n",
       "      <th></th>\n",
       "      <th></th>\n",
       "      <th></th>\n",
       "      <th></th>\n",
       "      <th></th>\n",
       "      <th></th>\n",
       "      <th></th>\n",
       "      <th></th>\n",
       "      <th></th>\n",
       "      <th></th>\n",
       "      <th></th>\n",
       "      <th></th>\n",
       "      <th></th>\n",
       "      <th></th>\n",
       "    </tr>\n",
       "  </thead>\n",
       "  <tbody>\n",
       "    <tr>\n",
       "      <th>Python</th>\n",
       "      <td>0</td>\n",
       "      <td>0</td>\n",
       "      <td>0</td>\n",
       "      <td>0</td>\n",
       "      <td>0</td>\n",
       "      <td>0</td>\n",
       "      <td>0</td>\n",
       "      <td>0</td>\n",
       "      <td>0</td>\n",
       "      <td>0</td>\n",
       "      <td>...</td>\n",
       "      <td>0</td>\n",
       "      <td>0</td>\n",
       "      <td>0</td>\n",
       "      <td>0</td>\n",
       "      <td>0</td>\n",
       "      <td>0</td>\n",
       "      <td>0</td>\n",
       "      <td>0</td>\n",
       "      <td>0</td>\n",
       "      <td>0</td>\n",
       "    </tr>\n",
       "    <tr>\n",
       "      <th>MachineLearning</th>\n",
       "      <td>0</td>\n",
       "      <td>0</td>\n",
       "      <td>0</td>\n",
       "      <td>0</td>\n",
       "      <td>0</td>\n",
       "      <td>0</td>\n",
       "      <td>0</td>\n",
       "      <td>0</td>\n",
       "      <td>0</td>\n",
       "      <td>0</td>\n",
       "      <td>...</td>\n",
       "      <td>0</td>\n",
       "      <td>0</td>\n",
       "      <td>0</td>\n",
       "      <td>0</td>\n",
       "      <td>0</td>\n",
       "      <td>0</td>\n",
       "      <td>0</td>\n",
       "      <td>0</td>\n",
       "      <td>0</td>\n",
       "      <td>0</td>\n",
       "    </tr>\n",
       "    <tr>\n",
       "      <th>MachineLearning</th>\n",
       "      <td>0</td>\n",
       "      <td>0</td>\n",
       "      <td>0</td>\n",
       "      <td>2</td>\n",
       "      <td>0</td>\n",
       "      <td>0</td>\n",
       "      <td>2</td>\n",
       "      <td>0</td>\n",
       "      <td>0</td>\n",
       "      <td>0</td>\n",
       "      <td>...</td>\n",
       "      <td>0</td>\n",
       "      <td>0</td>\n",
       "      <td>0</td>\n",
       "      <td>0</td>\n",
       "      <td>0</td>\n",
       "      <td>0</td>\n",
       "      <td>0</td>\n",
       "      <td>0</td>\n",
       "      <td>0</td>\n",
       "      <td>0</td>\n",
       "    </tr>\n",
       "    <tr>\n",
       "      <th>Python</th>\n",
       "      <td>0</td>\n",
       "      <td>0</td>\n",
       "      <td>0</td>\n",
       "      <td>0</td>\n",
       "      <td>0</td>\n",
       "      <td>0</td>\n",
       "      <td>0</td>\n",
       "      <td>0</td>\n",
       "      <td>0</td>\n",
       "      <td>0</td>\n",
       "      <td>...</td>\n",
       "      <td>0</td>\n",
       "      <td>0</td>\n",
       "      <td>0</td>\n",
       "      <td>0</td>\n",
       "      <td>0</td>\n",
       "      <td>0</td>\n",
       "      <td>0</td>\n",
       "      <td>0</td>\n",
       "      <td>0</td>\n",
       "      <td>0</td>\n",
       "    </tr>\n",
       "    <tr>\n",
       "      <th>imageprocessing</th>\n",
       "      <td>0</td>\n",
       "      <td>0</td>\n",
       "      <td>0</td>\n",
       "      <td>0</td>\n",
       "      <td>0</td>\n",
       "      <td>0</td>\n",
       "      <td>0</td>\n",
       "      <td>0</td>\n",
       "      <td>0</td>\n",
       "      <td>0</td>\n",
       "      <td>...</td>\n",
       "      <td>0</td>\n",
       "      <td>0</td>\n",
       "      <td>0</td>\n",
       "      <td>0</td>\n",
       "      <td>0</td>\n",
       "      <td>0</td>\n",
       "      <td>0</td>\n",
       "      <td>0</td>\n",
       "      <td>0</td>\n",
       "      <td>0</td>\n",
       "    </tr>\n",
       "  </tbody>\n",
       "</table>\n",
       "<p>5 rows × 5662 columns</p>\n",
       "</div>"
      ],
      "text/plain": [
       "                 00  000  01  01045  01060  01595  020  02021  02579  02667  \\\n",
       "subreddit                                                                     \n",
       "Python            0    0   0      0      0      0    0      0      0      0   \n",
       "MachineLearning   0    0   0      0      0      0    0      0      0      0   \n",
       "MachineLearning   0    0   0      2      0      0    2      0      0      0   \n",
       "Python            0    0   0      0      0      0    0      0      0      0   \n",
       "imageprocessing   0    0   0      0      0      0    0      0      0      0   \n",
       "\n",
       "                 ...  zipped  zoi9t5v223z61  zoom  zooming  zotero  \\\n",
       "subreddit        ...                                                 \n",
       "Python           ...       0              0     0        0       0   \n",
       "MachineLearning  ...       0              0     0        0       0   \n",
       "MachineLearning  ...       0              0     0        0       0   \n",
       "Python           ...       0              0     0        0       0   \n",
       "imageprocessing  ...       0              0     0        0       0   \n",
       "\n",
       "                 zub3yv6im9c11  zukin  zurich  zvdxsv1  zvdxsv1_qdo9jpyvz0msxq  \n",
       "subreddit                                                                       \n",
       "Python                       0      0       0        0                       0  \n",
       "MachineLearning              0      0       0        0                       0  \n",
       "MachineLearning              0      0       0        0                       0  \n",
       "Python                       0      0       0        0                       0  \n",
       "imageprocessing              0      0       0        0                       0  \n",
       "\n",
       "[5 rows x 5662 columns]"
      ]
     },
     "metadata": {},
     "output_type": "display_data"
    }
   ],
   "source": [
    "Xbow = pd.DataFrame(X_train_bow.toarray(), \n",
    "                    index=y_train, columns=vocab)\n",
    "display(Xbow.head())"
   ]
  },
  {
   "cell_type": "markdown",
   "id": "authentic-adrian",
   "metadata": {},
   "source": [
    "#### Training of Naive Bayes Classifier:"
   ]
  },
  {
   "cell_type": "code",
   "execution_count": 11,
   "id": "exterior-vietnamese",
   "metadata": {},
   "outputs": [
    {
     "name": "stdout",
     "output_type": "stream",
     "text": [
      "['MachineLearning' 'Python' 'dataanalysis' 'deeplearning'\n",
      " 'imageprocessing']\n",
      "Train accuracy: 0.9614147909967846\n"
     ]
    }
   ],
   "source": [
    "model = MultinomialNB(alpha=1.0)\n",
    "model.fit(X_train_bow, y_train)\n",
    "print(model.classes_)\n",
    "train_score = model.score(X_train_bow, y_train)\n",
    "print('Train accuracy:', train_score)"
   ]
  },
  {
   "cell_type": "markdown",
   "id": "happy-chicago",
   "metadata": {},
   "source": [
    "#### Prediction using naive Bayes classifier after training  "
   ]
  },
  {
   "cell_type": "code",
   "execution_count": 12,
   "id": "amber-password",
   "metadata": {},
   "outputs": [
    {
     "name": "stdout",
     "output_type": "stream",
     "text": [
      "['dataanalysis' 'MachineLearning' 'Python' 'dataanalysis'\n",
      " 'MachineLearning' 'MachineLearning' 'imageprocessing' 'MachineLearning'\n",
      " 'dataanalysis' 'MachineLearning' 'Python' 'MachineLearning'\n",
      " 'dataanalysis' 'MachineLearning' 'dataanalysis' 'Python' 'dataanalysis'\n",
      " 'MachineLearning' 'dataanalysis' 'dataanalysis' 'Python'\n",
      " 'imageprocessing' 'MachineLearning' 'imageprocessing' 'MachineLearning'\n",
      " 'dataanalysis' 'Python' 'imageprocessing' 'MachineLearning'\n",
      " 'MachineLearning' 'MachineLearning' 'MachineLearning' 'dataanalysis'\n",
      " 'dataanalysis' 'Python' 'MachineLearning' 'dataanalysis' 'Python'\n",
      " 'Python' 'imageprocessing' 'MachineLearning' 'dataanalysis'\n",
      " 'deeplearning' 'MachineLearning' 'MachineLearning' 'dataanalysis'\n",
      " 'imageprocessing' 'imageprocessing' 'imageprocessing' 'Python'\n",
      " 'imageprocessing' 'dataanalysis' 'MachineLearning' 'MachineLearning'\n",
      " 'MachineLearning' 'deeplearning']\n"
     ]
    }
   ],
   "source": [
    "proba = model.predict_proba(X_test_bow)\n",
    "results = pd.DataFrame(proba, columns=model.classes_)\n",
    "y_pred = model.predict(X_test_bow)\n",
    "print(y_pred)"
   ]
  },
  {
   "cell_type": "markdown",
   "id": "surface-reserve",
   "metadata": {},
   "source": [
    "#### Prediction accuracy:"
   ]
  },
  {
   "cell_type": "code",
   "execution_count": 13,
   "id": "alone-madison",
   "metadata": {},
   "outputs": [
    {
     "name": "stdout",
     "output_type": "stream",
     "text": [
      "0.625\n"
     ]
    }
   ],
   "source": [
    "print(accuracy_score(y_pred, y_test))"
   ]
  },
  {
   "cell_type": "markdown",
   "id": "private-texture",
   "metadata": {},
   "source": [
    "### Using neural network:"
   ]
  },
  {
   "cell_type": "markdown",
   "id": "permanent-eating",
   "metadata": {},
   "source": [
    "#### Import libraries"
   ]
  },
  {
   "cell_type": "code",
   "execution_count": 14,
   "id": "cooperative-appointment",
   "metadata": {},
   "outputs": [],
   "source": [
    "from numpy import array\n",
    "from keras.preprocessing.text import one_hot\n",
    "from keras.preprocessing.sequence import pad_sequences\n",
    "from keras.models import Sequential\n",
    "from keras.layers import Dense\n",
    "from keras.layers import Flatten\n",
    "from keras.layers.embeddings import Embedding\n",
    "from keras.callbacks import EarlyStopping\n",
    "from sklearn.preprocessing import OneHotEncoder"
   ]
  },
  {
   "cell_type": "markdown",
   "id": "invisible-terrain",
   "metadata": {},
   "source": [
    "#### Embed training data:"
   ]
  },
  {
   "cell_type": "code",
   "execution_count": 15,
   "id": "three-tactics",
   "metadata": {},
   "outputs": [
    {
     "name": "stdout",
     "output_type": "stream",
     "text": [
      "[5163, 1209, 2379, 2469, 4764, 5418, 2705, 3225, 4641, 2396, 2483, 242, 5559, 24, 267, 669, 2669, 475, 3464, 4736, 3128, 794, 5559, 4834, 5559, 2529, 5163, 5484, 203, 475, 5469, 1156, 5082, 2119, 5238, 1632, 2759]\n"
     ]
    }
   ],
   "source": [
    "embedded_sentences = [one_hot(word, len(vocab)) for word in X_train]\n",
    "print(embedded_sentences[0])"
   ]
  },
  {
   "cell_type": "code",
   "execution_count": 16,
   "id": "brazilian-reconstruction",
   "metadata": {},
   "outputs": [
    {
     "name": "stdout",
     "output_type": "stream",
     "text": [
      "[[5163 1209 2379 ...    0    0    0]\n",
      " [1383 2754  517 ...    0    0    0]\n",
      " [4759 4297 3225 ...    0    0    0]\n",
      " ...\n",
      " [ 517 1604 2941 ...    0    0    0]\n",
      " [2839 5082 1017 ...    0    0    0]\n",
      " [4641 2282 3088 ...    0    0    0]]\n"
     ]
    }
   ],
   "source": [
    "X_train_nn = pad_sequences(embedded_sentences, len(vocab), padding='post')\n",
    "print(X_train_nn)"
   ]
  },
  {
   "cell_type": "markdown",
   "id": "delayed-writer",
   "metadata": {},
   "source": [
    "#### Create neural network model:"
   ]
  },
  {
   "cell_type": "code",
   "execution_count": 17,
   "id": "planned-scientist",
   "metadata": {},
   "outputs": [],
   "source": [
    "model = Sequential()\n",
    "model.add(Embedding(len(vocab), 20, input_length=len(vocab)))\n",
    "model.add(Flatten())\n",
    "model.add(Dense(5, activation='sigmoid'))"
   ]
  },
  {
   "cell_type": "code",
   "execution_count": 18,
   "id": "incomplete-walter",
   "metadata": {},
   "outputs": [
    {
     "name": "stdout",
     "output_type": "stream",
     "text": [
      "Model: \"sequential\"\n",
      "_________________________________________________________________\n",
      "Layer (type)                 Output Shape              Param #   \n",
      "=================================================================\n",
      "embedding (Embedding)        (None, 5662, 20)          113240    \n",
      "_________________________________________________________________\n",
      "flatten (Flatten)            (None, 113240)            0         \n",
      "_________________________________________________________________\n",
      "dense (Dense)                (None, 5)                 566205    \n",
      "=================================================================\n",
      "Total params: 679,445\n",
      "Trainable params: 679,445\n",
      "Non-trainable params: 0\n",
      "_________________________________________________________________\n",
      "None\n"
     ]
    }
   ],
   "source": [
    "model.compile(optimizer='adam', loss='binary_crossentropy', metrics=['acc'])\n",
    "print(model.summary())"
   ]
  },
  {
   "cell_type": "code",
   "execution_count": 19,
   "id": "fifteen-phenomenon",
   "metadata": {},
   "outputs": [
    {
     "data": {
      "text/html": [
       "<div>\n",
       "<style scoped>\n",
       "    .dataframe tbody tr th:only-of-type {\n",
       "        vertical-align: middle;\n",
       "    }\n",
       "\n",
       "    .dataframe tbody tr th {\n",
       "        vertical-align: top;\n",
       "    }\n",
       "\n",
       "    .dataframe thead th {\n",
       "        text-align: right;\n",
       "    }\n",
       "</style>\n",
       "<table border=\"1\" class=\"dataframe\">\n",
       "  <thead>\n",
       "    <tr style=\"text-align: right;\">\n",
       "      <th></th>\n",
       "      <th>MachineLearning</th>\n",
       "      <th>Python</th>\n",
       "      <th>dataanalysis</th>\n",
       "      <th>deeplearning</th>\n",
       "      <th>imageprocessing</th>\n",
       "    </tr>\n",
       "  </thead>\n",
       "  <tbody>\n",
       "    <tr>\n",
       "      <th>304</th>\n",
       "      <td>0</td>\n",
       "      <td>1</td>\n",
       "      <td>0</td>\n",
       "      <td>0</td>\n",
       "      <td>0</td>\n",
       "    </tr>\n",
       "    <tr>\n",
       "      <th>81</th>\n",
       "      <td>1</td>\n",
       "      <td>0</td>\n",
       "      <td>0</td>\n",
       "      <td>0</td>\n",
       "      <td>0</td>\n",
       "    </tr>\n",
       "    <tr>\n",
       "      <th>14</th>\n",
       "      <td>1</td>\n",
       "      <td>0</td>\n",
       "      <td>0</td>\n",
       "      <td>0</td>\n",
       "      <td>0</td>\n",
       "    </tr>\n",
       "    <tr>\n",
       "      <th>360</th>\n",
       "      <td>0</td>\n",
       "      <td>1</td>\n",
       "      <td>0</td>\n",
       "      <td>0</td>\n",
       "      <td>0</td>\n",
       "    </tr>\n",
       "    <tr>\n",
       "      <th>197</th>\n",
       "      <td>0</td>\n",
       "      <td>0</td>\n",
       "      <td>0</td>\n",
       "      <td>0</td>\n",
       "      <td>1</td>\n",
       "    </tr>\n",
       "    <tr>\n",
       "      <th>...</th>\n",
       "      <td>...</td>\n",
       "      <td>...</td>\n",
       "      <td>...</td>\n",
       "      <td>...</td>\n",
       "      <td>...</td>\n",
       "    </tr>\n",
       "    <tr>\n",
       "      <th>60</th>\n",
       "      <td>1</td>\n",
       "      <td>0</td>\n",
       "      <td>0</td>\n",
       "      <td>0</td>\n",
       "      <td>0</td>\n",
       "    </tr>\n",
       "    <tr>\n",
       "      <th>256</th>\n",
       "      <td>0</td>\n",
       "      <td>0</td>\n",
       "      <td>1</td>\n",
       "      <td>0</td>\n",
       "      <td>0</td>\n",
       "    </tr>\n",
       "    <tr>\n",
       "      <th>130</th>\n",
       "      <td>0</td>\n",
       "      <td>0</td>\n",
       "      <td>0</td>\n",
       "      <td>1</td>\n",
       "      <td>0</td>\n",
       "    </tr>\n",
       "    <tr>\n",
       "      <th>53</th>\n",
       "      <td>1</td>\n",
       "      <td>0</td>\n",
       "      <td>0</td>\n",
       "      <td>0</td>\n",
       "      <td>0</td>\n",
       "    </tr>\n",
       "    <tr>\n",
       "      <th>102</th>\n",
       "      <td>0</td>\n",
       "      <td>0</td>\n",
       "      <td>0</td>\n",
       "      <td>1</td>\n",
       "      <td>0</td>\n",
       "    </tr>\n",
       "  </tbody>\n",
       "</table>\n",
       "<p>311 rows × 5 columns</p>\n",
       "</div>"
      ],
      "text/plain": [
       "     MachineLearning  Python  dataanalysis  deeplearning  imageprocessing\n",
       "304                0       1             0             0                0\n",
       "81                 1       0             0             0                0\n",
       "14                 1       0             0             0                0\n",
       "360                0       1             0             0                0\n",
       "197                0       0             0             0                1\n",
       "..               ...     ...           ...           ...              ...\n",
       "60                 1       0             0             0                0\n",
       "256                0       0             1             0                0\n",
       "130                0       0             0             1                0\n",
       "53                 1       0             0             0                0\n",
       "102                0       0             0             1                0\n",
       "\n",
       "[311 rows x 5 columns]"
      ]
     },
     "metadata": {},
     "output_type": "display_data"
    }
   ],
   "source": [
    "y_train_nn = pd.get_dummies(y_train)\n",
    "display(y_train_nn)"
   ]
  },
  {
   "cell_type": "code",
   "execution_count": 20,
   "id": "computational-overhead",
   "metadata": {},
   "outputs": [
    {
     "name": "stdout",
     "output_type": "stream",
     "text": [
      "Epoch 1/50\n",
      "8/8 [==============================] - 4s 432ms/step - loss: 0.6484 - acc: 0.1831 - val_loss: 0.5566 - val_acc: 0.1429\n",
      "Epoch 2/50\n",
      "8/8 [==============================] - 1s 86ms/step - loss: 0.5379 - acc: 0.2213 - val_loss: 0.5242 - val_acc: 0.3016\n",
      "Epoch 3/50\n",
      "8/8 [==============================] - 1s 90ms/step - loss: 0.5294 - acc: 0.2402 - val_loss: 0.5091 - val_acc: 0.1905\n",
      "Epoch 4/50\n",
      "8/8 [==============================] - 1s 90ms/step - loss: 0.4813 - acc: 0.3341 - val_loss: 0.4884 - val_acc: 0.3016\n",
      "Epoch 5/50\n",
      "8/8 [==============================] - 1s 87ms/step - loss: 0.4714 - acc: 0.2780 - val_loss: 0.4972 - val_acc: 0.2063\n",
      "Epoch 6/50\n",
      "8/8 [==============================] - 1s 96ms/step - loss: 0.4476 - acc: 0.4758 - val_loss: 0.4885 - val_acc: 0.3016\n",
      "Epoch 7/50\n",
      "8/8 [==============================] - 1s 106ms/step - loss: 0.4377 - acc: 0.6052 - val_loss: 0.4867 - val_acc: 0.3810\n",
      "Epoch 8/50\n",
      "8/8 [==============================] - 1s 98ms/step - loss: 0.4101 - acc: 0.8197 - val_loss: 0.4850 - val_acc: 0.2222\n",
      "Epoch 9/50\n",
      "8/8 [==============================] - 1s 87ms/step - loss: 0.3803 - acc: 0.8828 - val_loss: 0.4834 - val_acc: 0.3492\n",
      "Epoch 10/50\n",
      "8/8 [==============================] - 1s 79ms/step - loss: 0.3472 - acc: 0.8743 - val_loss: 0.4818 - val_acc: 0.3333\n",
      "Epoch 11/50\n",
      "8/8 [==============================] - 1s 100ms/step - loss: 0.3244 - acc: 0.9625 - val_loss: 0.4787 - val_acc: 0.3175\n",
      "Epoch 12/50\n",
      "8/8 [==============================] - 1s 84ms/step - loss: 0.2982 - acc: 0.9432 - val_loss: 0.4801 - val_acc: 0.3175\n",
      "Epoch 13/50\n",
      "8/8 [==============================] - 1s 85ms/step - loss: 0.2695 - acc: 0.9489 - val_loss: 0.4767 - val_acc: 0.2857\n",
      "Epoch 14/50\n",
      "8/8 [==============================] - 1s 109ms/step - loss: 0.2395 - acc: 0.9512 - val_loss: 0.4718 - val_acc: 0.3651\n",
      "Epoch 15/50\n",
      "8/8 [==============================] - 1s 77ms/step - loss: 0.2185 - acc: 0.9778 - val_loss: 0.4754 - val_acc: 0.3333\n",
      "Epoch 16/50\n",
      "8/8 [==============================] - 1s 83ms/step - loss: 0.1846 - acc: 0.9736 - val_loss: 0.4740 - val_acc: 0.3016\n",
      "Epoch 17/50\n",
      "8/8 [==============================] - 1s 69ms/step - loss: 0.1585 - acc: 0.9877 - val_loss: 0.4789 - val_acc: 0.3016\n",
      "Epoch 18/50\n",
      "8/8 [==============================] - 0s 64ms/step - loss: 0.1495 - acc: 0.9838 - val_loss: 0.4803 - val_acc: 0.2698\n",
      "Epoch 19/50\n",
      "8/8 [==============================] - 0s 57ms/step - loss: 0.1357 - acc: 0.9735 - val_loss: 0.4836 - val_acc: 0.2698\n"
     ]
    }
   ],
   "source": [
    "history = model.fit(X_train_nn, y_train_nn.values, epochs=50, verbose=1, validation_split=0.2, callbacks=EarlyStopping(monitor='val_loss', patience=5))"
   ]
  },
  {
   "cell_type": "markdown",
   "id": "champion-enough",
   "metadata": {},
   "source": [
    "#### Accuracy:"
   ]
  },
  {
   "cell_type": "code",
   "execution_count": 21,
   "id": "cathedral-newspaper",
   "metadata": {},
   "outputs": [
    {
     "name": "stdout",
     "output_type": "stream",
     "text": [
      "Accuracy: 83.279741\n"
     ]
    }
   ],
   "source": [
    "loss, accuracy = model.evaluate(X_train_nn, y_train_nn, verbose=0)\n",
    "print('Accuracy: %f' % (accuracy*100))"
   ]
  },
  {
   "cell_type": "markdown",
   "id": "meaningful-dover",
   "metadata": {},
   "source": [
    "#### Predict using test data:"
   ]
  },
  {
   "cell_type": "code",
   "execution_count": 22,
   "id": "mediterranean-complement",
   "metadata": {},
   "outputs": [],
   "source": [
    "X_test_nn = [one_hot(word, len(vocab)) for word in X_test]\n",
    "X_test_nn = pad_sequences(X_test_nn, len(vocab), padding='post')"
   ]
  },
  {
   "cell_type": "code",
   "execution_count": 23,
   "id": "timely-performance",
   "metadata": {},
   "outputs": [],
   "source": [
    "y_test_nn = pd.get_dummies(y_test)"
   ]
  },
  {
   "cell_type": "code",
   "execution_count": 24,
   "id": "endangered-recording",
   "metadata": {},
   "outputs": [
    {
     "name": "stdout",
     "output_type": "stream",
     "text": [
      "2/2 [==============================] - 0s 12ms/step - loss: 0.5073 - acc: 0.4464\n",
      "Test Score: 0.5072640180587769\n",
      "Test Accuracy: 0.4464285671710968\n"
     ]
    }
   ],
   "source": [
    "score = model.evaluate(X_test_nn, y_test_nn, verbose=1)\n",
    "\n",
    "print(\"Test Score:\", score[0])\n",
    "print(\"Test Accuracy:\", score[1])"
   ]
  },
  {
   "cell_type": "markdown",
   "id": "interior-sugar",
   "metadata": {},
   "source": [
    "#### Plot loss and accuracy values:"
   ]
  },
  {
   "cell_type": "code",
   "execution_count": 25,
   "id": "abstract-blond",
   "metadata": {},
   "outputs": [
    {
     "data": {
      "image/png": "[encoded data removed]",
      "text/plain": [
       "<Figure size 432x288 with 1 Axes>"
      ]
     },
     "metadata": {
      "needs_background": "light"
     },
     "output_type": "display_data"
    },
    {
     "data": {
      "image/png": "[encoded data removed]",
      "text/plain": [
       "<Figure size 432x288 with 1 Axes>"
      ]
     },
     "metadata": {
      "needs_background": "light"
     },
     "output_type": "display_data"
    }
   ],
   "source": [
    "plt.plot(history.history['acc'])\n",
    "plt.plot(history.history['val_acc'])\n",
    "\n",
    "plt.title('model accuracy')\n",
    "plt.ylabel('accuracy')\n",
    "plt.xlabel('epoch')\n",
    "plt.legend(['train','test'], loc='upper left')\n",
    "plt.show()\n",
    "\n",
    "plt.plot(history.history['loss'])\n",
    "plt.plot(history.history['val_loss'])\n",
    "\n",
    "plt.title('model loss')\n",
    "plt.ylabel('loss')\n",
    "plt.xlabel('epoch')\n",
    "plt.legend(['train','test'], loc='upper left')\n",
    "plt.show()"
   ]
  },
  {
   "cell_type": "markdown",
   "id": "distant-girlfriend",
   "metadata": {},
   "source": [
    "### Conclusion:"
   ]
  },
  {
   "cell_type": "markdown",
   "id": "varying-blind",
   "metadata": {},
   "source": [
    "1. Naive Bayes Classifier seems to work better than Neural Network model for this dataset.\n",
    "2. Test accuracy for this dataset is low for both models, which may be attributed to following reasons:<br>\n",
    "a/ Small number of training observations <br>\n",
    "b/ Similarities between labels makes it difficult for even human to classify <br>\n",
    "c/ Posts on Reddit are often published with pictures and external links, which means in many cases, important contents are mainly in these pictures and links rather than on the body of posts.<br>\n",
    "3. Potential improvements: <br>\n",
    "a/ Better preprocessing words: get rid of numbers, special characters, etc. <br>\n",
    "b/ Change parameters in the neural network model. <br>\n",
    "c/ Try other models for text classification"
   ]
  },
  {
   "cell_type": "code",
   "execution_count": null,
   "id": "incredible-negotiation",
   "metadata": {},
   "outputs": [],
   "source": []
  }
 ],
 "metadata": {
  "kernelspec": {
   "display_name": "Python 3",
   "language": "python",
   "name": "python3"
  },
  "language_info": {
   "codemirror_mode": {
    "name": "ipython",
    "version": 3
   },
   "file_extension": ".py",
   "mimetype": "text/x-python",
   "name": "python",
   "nbconvert_exporter": "python",
   "pygments_lexer": "ipython3",
   "version": "3.8.8"
  }
 },
 "nbformat": 4,
 "nbformat_minor": 5
}
