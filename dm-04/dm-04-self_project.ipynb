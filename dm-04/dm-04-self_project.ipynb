{
 "cells": [
  {
   "cell_type": "markdown",
   "id": "strong-bibliography",
   "metadata": {},
   "source": [
    "Student: Pham Thu Thao <br>\n",
    "Student ID: 1F10190004"
   ]
  },
  {
   "cell_type": "markdown",
   "id": "stone-password",
   "metadata": {},
   "source": [
    "### Dataset source:\n",
    "\n",
    "  [Moro et al., 2011] S. Moro, R. Laureano and P. Cortez. Using Data Mining for Bank Direct Marketing: An Application of the CRISP-DM Methodology. <br>\n",
    "  In P. Novais et al. (Eds.), Proceedings of the European Simulation and Modelling Conference - ESM'2011, pp. 117-121, Guimarães, Portugal, October, 2011. EUROSIS. <br>\n",
    "\n",
    "  Available at: <br> \n",
    "  [pdf] http://hdl.handle.net/1822/14838 <br>\n",
    "  [bib] http://www3.dsi.uminho.pt/pcortez/bib/2011-esm-1.txt"
   ]
  },
  {
   "cell_type": "markdown",
   "id": "baking-abuse",
   "metadata": {},
   "source": [
    "### Import libraries:"
   ]
  },
  {
   "cell_type": "code",
   "execution_count": 1,
   "id": "inclusive-sigma",
   "metadata": {},
   "outputs": [],
   "source": [
    "import numpy as np\n",
    "import pandas as pd\n",
    "import matplotlib.pyplot as plt\n",
    "import scipy.stats as ss\n",
    "from sklearn.model_selection import train_test_split\n",
    "from sklearn.naive_bayes import GaussianNB\n",
    "from sklearn import metrics\n",
    "import statsmodels.api as sm\n",
    "from sklearn.linear_model import LogisticRegression"
   ]
  },
  {
   "cell_type": "markdown",
   "id": "southwest-metallic",
   "metadata": {},
   "source": [
    "### Load data:"
   ]
  },
  {
   "cell_type": "code",
   "execution_count": 2,
   "id": "running-semester",
   "metadata": {},
   "outputs": [
    {
     "data": {
      "text/html": [
       "<div>\n",
       "<style scoped>\n",
       "    .dataframe tbody tr th:only-of-type {\n",
       "        vertical-align: middle;\n",
       "    }\n",
       "\n",
       "    .dataframe tbody tr th {\n",
       "        vertical-align: top;\n",
       "    }\n",
       "\n",
       "    .dataframe thead th {\n",
       "        text-align: right;\n",
       "    }\n",
       "</style>\n",
       "<table border=\"1\" class=\"dataframe\">\n",
       "  <thead>\n",
       "    <tr style=\"text-align: right;\">\n",
       "      <th></th>\n",
       "      <th>age</th>\n",
       "      <th>job</th>\n",
       "      <th>marital</th>\n",
       "      <th>education</th>\n",
       "      <th>default</th>\n",
       "      <th>balance</th>\n",
       "      <th>housing</th>\n",
       "      <th>loan</th>\n",
       "      <th>contact</th>\n",
       "      <th>day</th>\n",
       "      <th>month</th>\n",
       "      <th>duration</th>\n",
       "      <th>campaign</th>\n",
       "      <th>pdays</th>\n",
       "      <th>previous</th>\n",
       "      <th>poutcome</th>\n",
       "      <th>y</th>\n",
       "    </tr>\n",
       "  </thead>\n",
       "  <tbody>\n",
       "    <tr>\n",
       "      <th>0</th>\n",
       "      <td>58</td>\n",
       "      <td>management</td>\n",
       "      <td>married</td>\n",
       "      <td>tertiary</td>\n",
       "      <td>no</td>\n",
       "      <td>2143</td>\n",
       "      <td>yes</td>\n",
       "      <td>no</td>\n",
       "      <td>unknown</td>\n",
       "      <td>5</td>\n",
       "      <td>may</td>\n",
       "      <td>261</td>\n",
       "      <td>1</td>\n",
       "      <td>-1</td>\n",
       "      <td>0</td>\n",
       "      <td>unknown</td>\n",
       "      <td>no</td>\n",
       "    </tr>\n",
       "    <tr>\n",
       "      <th>1</th>\n",
       "      <td>44</td>\n",
       "      <td>technician</td>\n",
       "      <td>single</td>\n",
       "      <td>secondary</td>\n",
       "      <td>no</td>\n",
       "      <td>29</td>\n",
       "      <td>yes</td>\n",
       "      <td>no</td>\n",
       "      <td>unknown</td>\n",
       "      <td>5</td>\n",
       "      <td>may</td>\n",
       "      <td>151</td>\n",
       "      <td>1</td>\n",
       "      <td>-1</td>\n",
       "      <td>0</td>\n",
       "      <td>unknown</td>\n",
       "      <td>no</td>\n",
       "    </tr>\n",
       "    <tr>\n",
       "      <th>2</th>\n",
       "      <td>33</td>\n",
       "      <td>entrepreneur</td>\n",
       "      <td>married</td>\n",
       "      <td>secondary</td>\n",
       "      <td>no</td>\n",
       "      <td>2</td>\n",
       "      <td>yes</td>\n",
       "      <td>yes</td>\n",
       "      <td>unknown</td>\n",
       "      <td>5</td>\n",
       "      <td>may</td>\n",
       "      <td>76</td>\n",
       "      <td>1</td>\n",
       "      <td>-1</td>\n",
       "      <td>0</td>\n",
       "      <td>unknown</td>\n",
       "      <td>no</td>\n",
       "    </tr>\n",
       "    <tr>\n",
       "      <th>3</th>\n",
       "      <td>47</td>\n",
       "      <td>blue-collar</td>\n",
       "      <td>married</td>\n",
       "      <td>unknown</td>\n",
       "      <td>no</td>\n",
       "      <td>1506</td>\n",
       "      <td>yes</td>\n",
       "      <td>no</td>\n",
       "      <td>unknown</td>\n",
       "      <td>5</td>\n",
       "      <td>may</td>\n",
       "      <td>92</td>\n",
       "      <td>1</td>\n",
       "      <td>-1</td>\n",
       "      <td>0</td>\n",
       "      <td>unknown</td>\n",
       "      <td>no</td>\n",
       "    </tr>\n",
       "    <tr>\n",
       "      <th>4</th>\n",
       "      <td>33</td>\n",
       "      <td>unknown</td>\n",
       "      <td>single</td>\n",
       "      <td>unknown</td>\n",
       "      <td>no</td>\n",
       "      <td>1</td>\n",
       "      <td>no</td>\n",
       "      <td>no</td>\n",
       "      <td>unknown</td>\n",
       "      <td>5</td>\n",
       "      <td>may</td>\n",
       "      <td>198</td>\n",
       "      <td>1</td>\n",
       "      <td>-1</td>\n",
       "      <td>0</td>\n",
       "      <td>unknown</td>\n",
       "      <td>no</td>\n",
       "    </tr>\n",
       "  </tbody>\n",
       "</table>\n",
       "</div>"
      ],
      "text/plain": [
       "   age           job  marital  education default  balance housing loan  \\\n",
       "0   58    management  married   tertiary      no     2143     yes   no   \n",
       "1   44    technician   single  secondary      no       29     yes   no   \n",
       "2   33  entrepreneur  married  secondary      no        2     yes  yes   \n",
       "3   47   blue-collar  married    unknown      no     1506     yes   no   \n",
       "4   33       unknown   single    unknown      no        1      no   no   \n",
       "\n",
       "   contact  day month  duration  campaign  pdays  previous poutcome   y  \n",
       "0  unknown    5   may       261         1     -1         0  unknown  no  \n",
       "1  unknown    5   may       151         1     -1         0  unknown  no  \n",
       "2  unknown    5   may        76         1     -1         0  unknown  no  \n",
       "3  unknown    5   may        92         1     -1         0  unknown  no  \n",
       "4  unknown    5   may       198         1     -1         0  unknown  no  "
      ]
     },
     "metadata": {},
     "output_type": "display_data"
    }
   ],
   "source": [
    "df = pd.read_csv(\"bank-full.csv\", delimiter=\";\", header=0)\n",
    "display(df.head())"
   ]
  },
  {
   "cell_type": "code",
   "execution_count": 3,
   "id": "optimum-limitation",
   "metadata": {},
   "outputs": [
    {
     "name": "stdout",
     "output_type": "stream",
     "text": [
      "(45211, 17)\n"
     ]
    }
   ],
   "source": [
    "# Check number of data and variables\n",
    "print(df.shape)"
   ]
  },
  {
   "cell_type": "code",
   "execution_count": 4,
   "id": "charitable-victor",
   "metadata": {},
   "outputs": [
    {
     "name": "stdout",
     "output_type": "stream",
     "text": [
      "<class 'pandas.core.frame.DataFrame'>\n",
      "RangeIndex: 45211 entries, 0 to 45210\n",
      "Data columns (total 17 columns):\n",
      " #   Column     Non-Null Count  Dtype \n",
      "---  ------     --------------  ----- \n",
      " 0   age        45211 non-null  int64 \n",
      " 1   job        45211 non-null  object\n",
      " 2   marital    45211 non-null  object\n",
      " 3   education  45211 non-null  object\n",
      " 4   default    45211 non-null  object\n",
      " 5   balance    45211 non-null  int64 \n",
      " 6   housing    45211 non-null  object\n",
      " 7   loan       45211 non-null  object\n",
      " 8   contact    45211 non-null  object\n",
      " 9   day        45211 non-null  int64 \n",
      " 10  month      45211 non-null  object\n",
      " 11  duration   45211 non-null  int64 \n",
      " 12  campaign   45211 non-null  int64 \n",
      " 13  pdays      45211 non-null  int64 \n",
      " 14  previous   45211 non-null  int64 \n",
      " 15  poutcome   45211 non-null  object\n",
      " 16  y          45211 non-null  object\n",
      "dtypes: int64(7), object(10)\n",
      "memory usage: 5.9+ MB\n",
      "None\n"
     ]
    }
   ],
   "source": [
    "# Check null values\n",
    "print(df.info())"
   ]
  },
  {
   "cell_type": "code",
   "execution_count": 5,
   "id": "brief-newcastle",
   "metadata": {},
   "outputs": [
    {
     "name": "stdout",
     "output_type": "stream",
     "text": [
      "age          False\n",
      "job          False\n",
      "marital      False\n",
      "education    False\n",
      "default      False\n",
      "balance      False\n",
      "housing      False\n",
      "loan         False\n",
      "contact      False\n",
      "day          False\n",
      "month        False\n",
      "duration     False\n",
      "campaign     False\n",
      "pdays        False\n",
      "previous     False\n",
      "poutcome     False\n",
      "y            False\n",
      "dtype: bool\n"
     ]
    }
   ],
   "source": [
    "print(df.isnull().any())"
   ]
  },
  {
   "cell_type": "markdown",
   "id": "transsexual-offset",
   "metadata": {},
   "source": [
    "No null values are noticed, therefore there's no need to fill in or exclude rows with null values."
   ]
  },
  {
   "cell_type": "markdown",
   "id": "introductory-landscape",
   "metadata": {},
   "source": [
    "### Preprocessing data:"
   ]
  },
  {
   "cell_type": "markdown",
   "id": "hairy-segment",
   "metadata": {},
   "source": [
    "#### Explanatory and response variables:"
   ]
  },
  {
   "cell_type": "code",
   "execution_count": 6,
   "id": "opened-chain",
   "metadata": {},
   "outputs": [
    {
     "data": {
      "text/html": [
       "<div>\n",
       "<style scoped>\n",
       "    .dataframe tbody tr th:only-of-type {\n",
       "        vertical-align: middle;\n",
       "    }\n",
       "\n",
       "    .dataframe tbody tr th {\n",
       "        vertical-align: top;\n",
       "    }\n",
       "\n",
       "    .dataframe thead th {\n",
       "        text-align: right;\n",
       "    }\n",
       "</style>\n",
       "<table border=\"1\" class=\"dataframe\">\n",
       "  <thead>\n",
       "    <tr style=\"text-align: right;\">\n",
       "      <th></th>\n",
       "      <th>age</th>\n",
       "      <th>job</th>\n",
       "      <th>marital</th>\n",
       "      <th>education</th>\n",
       "      <th>default</th>\n",
       "      <th>balance</th>\n",
       "      <th>housing</th>\n",
       "      <th>loan</th>\n",
       "      <th>contact</th>\n",
       "      <th>day</th>\n",
       "      <th>month</th>\n",
       "      <th>duration</th>\n",
       "      <th>campaign</th>\n",
       "      <th>pdays</th>\n",
       "      <th>previous</th>\n",
       "      <th>poutcome</th>\n",
       "    </tr>\n",
       "  </thead>\n",
       "  <tbody>\n",
       "    <tr>\n",
       "      <th>0</th>\n",
       "      <td>58</td>\n",
       "      <td>management</td>\n",
       "      <td>married</td>\n",
       "      <td>tertiary</td>\n",
       "      <td>no</td>\n",
       "      <td>2143</td>\n",
       "      <td>yes</td>\n",
       "      <td>no</td>\n",
       "      <td>unknown</td>\n",
       "      <td>5</td>\n",
       "      <td>may</td>\n",
       "      <td>261</td>\n",
       "      <td>1</td>\n",
       "      <td>-1</td>\n",
       "      <td>0</td>\n",
       "      <td>unknown</td>\n",
       "    </tr>\n",
       "    <tr>\n",
       "      <th>1</th>\n",
       "      <td>44</td>\n",
       "      <td>technician</td>\n",
       "      <td>single</td>\n",
       "      <td>secondary</td>\n",
       "      <td>no</td>\n",
       "      <td>29</td>\n",
       "      <td>yes</td>\n",
       "      <td>no</td>\n",
       "      <td>unknown</td>\n",
       "      <td>5</td>\n",
       "      <td>may</td>\n",
       "      <td>151</td>\n",
       "      <td>1</td>\n",
       "      <td>-1</td>\n",
       "      <td>0</td>\n",
       "      <td>unknown</td>\n",
       "    </tr>\n",
       "    <tr>\n",
       "      <th>2</th>\n",
       "      <td>33</td>\n",
       "      <td>entrepreneur</td>\n",
       "      <td>married</td>\n",
       "      <td>secondary</td>\n",
       "      <td>no</td>\n",
       "      <td>2</td>\n",
       "      <td>yes</td>\n",
       "      <td>yes</td>\n",
       "      <td>unknown</td>\n",
       "      <td>5</td>\n",
       "      <td>may</td>\n",
       "      <td>76</td>\n",
       "      <td>1</td>\n",
       "      <td>-1</td>\n",
       "      <td>0</td>\n",
       "      <td>unknown</td>\n",
       "    </tr>\n",
       "    <tr>\n",
       "      <th>3</th>\n",
       "      <td>47</td>\n",
       "      <td>blue-collar</td>\n",
       "      <td>married</td>\n",
       "      <td>unknown</td>\n",
       "      <td>no</td>\n",
       "      <td>1506</td>\n",
       "      <td>yes</td>\n",
       "      <td>no</td>\n",
       "      <td>unknown</td>\n",
       "      <td>5</td>\n",
       "      <td>may</td>\n",
       "      <td>92</td>\n",
       "      <td>1</td>\n",
       "      <td>-1</td>\n",
       "      <td>0</td>\n",
       "      <td>unknown</td>\n",
       "    </tr>\n",
       "    <tr>\n",
       "      <th>4</th>\n",
       "      <td>33</td>\n",
       "      <td>unknown</td>\n",
       "      <td>single</td>\n",
       "      <td>unknown</td>\n",
       "      <td>no</td>\n",
       "      <td>1</td>\n",
       "      <td>no</td>\n",
       "      <td>no</td>\n",
       "      <td>unknown</td>\n",
       "      <td>5</td>\n",
       "      <td>may</td>\n",
       "      <td>198</td>\n",
       "      <td>1</td>\n",
       "      <td>-1</td>\n",
       "      <td>0</td>\n",
       "      <td>unknown</td>\n",
       "    </tr>\n",
       "  </tbody>\n",
       "</table>\n",
       "</div>"
      ],
      "text/plain": [
       "   age           job  marital  education default  balance housing loan  \\\n",
       "0   58    management  married   tertiary      no     2143     yes   no   \n",
       "1   44    technician   single  secondary      no       29     yes   no   \n",
       "2   33  entrepreneur  married  secondary      no        2     yes  yes   \n",
       "3   47   blue-collar  married    unknown      no     1506     yes   no   \n",
       "4   33       unknown   single    unknown      no        1      no   no   \n",
       "\n",
       "   contact  day month  duration  campaign  pdays  previous poutcome  \n",
       "0  unknown    5   may       261         1     -1         0  unknown  \n",
       "1  unknown    5   may       151         1     -1         0  unknown  \n",
       "2  unknown    5   may        76         1     -1         0  unknown  \n",
       "3  unknown    5   may        92         1     -1         0  unknown  \n",
       "4  unknown    5   may       198         1     -1         0  unknown  "
      ]
     },
     "metadata": {},
     "output_type": "display_data"
    }
   ],
   "source": [
    "X = df.loc[:, df.columns!=\"y\"]\n",
    "y = df[\"y\"]\n",
    "display(X.head())"
   ]
  },
  {
   "cell_type": "code",
   "execution_count": 7,
   "id": "egyptian-christopher",
   "metadata": {},
   "outputs": [
    {
     "data": {
      "image/png": "[encoded data removed]",
      "text/plain": [
       "<Figure size 432x288 with 1 Axes>"
      ]
     },
     "metadata": {
      "needs_background": "light"
     },
     "output_type": "display_data"
    }
   ],
   "source": [
    "y_values = y.value_counts()\n",
    "plt.bar(y_values.index, y_values)\n",
    "plt.xlabel(\"Subscribe to term deposit?\")\n",
    "plt.ylabel(\"Frequency\")\n",
    "plt.show()"
   ]
  },
  {
   "cell_type": "markdown",
   "id": "divided-fantasy",
   "metadata": {},
   "source": [
    "#### Deal with categorical variables:"
   ]
  },
  {
   "cell_type": "code",
   "execution_count": 8,
   "id": "abroad-blast",
   "metadata": {},
   "outputs": [
    {
     "data": {
      "text/html": [
       "<div>\n",
       "<style scoped>\n",
       "    .dataframe tbody tr th:only-of-type {\n",
       "        vertical-align: middle;\n",
       "    }\n",
       "\n",
       "    .dataframe tbody tr th {\n",
       "        vertical-align: top;\n",
       "    }\n",
       "\n",
       "    .dataframe thead th {\n",
       "        text-align: right;\n",
       "    }\n",
       "</style>\n",
       "<table border=\"1\" class=\"dataframe\">\n",
       "  <thead>\n",
       "    <tr style=\"text-align: right;\">\n",
       "      <th></th>\n",
       "      <th>age</th>\n",
       "      <th>balance</th>\n",
       "      <th>day</th>\n",
       "      <th>duration</th>\n",
       "      <th>campaign</th>\n",
       "      <th>pdays</th>\n",
       "      <th>previous</th>\n",
       "      <th>job_blue-collar</th>\n",
       "      <th>job_entrepreneur</th>\n",
       "      <th>job_housemaid</th>\n",
       "      <th>...</th>\n",
       "      <th>month_jul</th>\n",
       "      <th>month_jun</th>\n",
       "      <th>month_mar</th>\n",
       "      <th>month_may</th>\n",
       "      <th>month_nov</th>\n",
       "      <th>month_oct</th>\n",
       "      <th>month_sep</th>\n",
       "      <th>poutcome_other</th>\n",
       "      <th>poutcome_success</th>\n",
       "      <th>poutcome_unknown</th>\n",
       "    </tr>\n",
       "  </thead>\n",
       "  <tbody>\n",
       "    <tr>\n",
       "      <th>0</th>\n",
       "      <td>58</td>\n",
       "      <td>2143</td>\n",
       "      <td>5</td>\n",
       "      <td>261</td>\n",
       "      <td>1</td>\n",
       "      <td>-1</td>\n",
       "      <td>0</td>\n",
       "      <td>0</td>\n",
       "      <td>0</td>\n",
       "      <td>0</td>\n",
       "      <td>...</td>\n",
       "      <td>0</td>\n",
       "      <td>0</td>\n",
       "      <td>0</td>\n",
       "      <td>1</td>\n",
       "      <td>0</td>\n",
       "      <td>0</td>\n",
       "      <td>0</td>\n",
       "      <td>0</td>\n",
       "      <td>0</td>\n",
       "      <td>1</td>\n",
       "    </tr>\n",
       "    <tr>\n",
       "      <th>1</th>\n",
       "      <td>44</td>\n",
       "      <td>29</td>\n",
       "      <td>5</td>\n",
       "      <td>151</td>\n",
       "      <td>1</td>\n",
       "      <td>-1</td>\n",
       "      <td>0</td>\n",
       "      <td>0</td>\n",
       "      <td>0</td>\n",
       "      <td>0</td>\n",
       "      <td>...</td>\n",
       "      <td>0</td>\n",
       "      <td>0</td>\n",
       "      <td>0</td>\n",
       "      <td>1</td>\n",
       "      <td>0</td>\n",
       "      <td>0</td>\n",
       "      <td>0</td>\n",
       "      <td>0</td>\n",
       "      <td>0</td>\n",
       "      <td>1</td>\n",
       "    </tr>\n",
       "    <tr>\n",
       "      <th>2</th>\n",
       "      <td>33</td>\n",
       "      <td>2</td>\n",
       "      <td>5</td>\n",
       "      <td>76</td>\n",
       "      <td>1</td>\n",
       "      <td>-1</td>\n",
       "      <td>0</td>\n",
       "      <td>0</td>\n",
       "      <td>1</td>\n",
       "      <td>0</td>\n",
       "      <td>...</td>\n",
       "      <td>0</td>\n",
       "      <td>0</td>\n",
       "      <td>0</td>\n",
       "      <td>1</td>\n",
       "      <td>0</td>\n",
       "      <td>0</td>\n",
       "      <td>0</td>\n",
       "      <td>0</td>\n",
       "      <td>0</td>\n",
       "      <td>1</td>\n",
       "    </tr>\n",
       "    <tr>\n",
       "      <th>3</th>\n",
       "      <td>47</td>\n",
       "      <td>1506</td>\n",
       "      <td>5</td>\n",
       "      <td>92</td>\n",
       "      <td>1</td>\n",
       "      <td>-1</td>\n",
       "      <td>0</td>\n",
       "      <td>1</td>\n",
       "      <td>0</td>\n",
       "      <td>0</td>\n",
       "      <td>...</td>\n",
       "      <td>0</td>\n",
       "      <td>0</td>\n",
       "      <td>0</td>\n",
       "      <td>1</td>\n",
       "      <td>0</td>\n",
       "      <td>0</td>\n",
       "      <td>0</td>\n",
       "      <td>0</td>\n",
       "      <td>0</td>\n",
       "      <td>1</td>\n",
       "    </tr>\n",
       "    <tr>\n",
       "      <th>4</th>\n",
       "      <td>33</td>\n",
       "      <td>1</td>\n",
       "      <td>5</td>\n",
       "      <td>198</td>\n",
       "      <td>1</td>\n",
       "      <td>-1</td>\n",
       "      <td>0</td>\n",
       "      <td>0</td>\n",
       "      <td>0</td>\n",
       "      <td>0</td>\n",
       "      <td>...</td>\n",
       "      <td>0</td>\n",
       "      <td>0</td>\n",
       "      <td>0</td>\n",
       "      <td>1</td>\n",
       "      <td>0</td>\n",
       "      <td>0</td>\n",
       "      <td>0</td>\n",
       "      <td>0</td>\n",
       "      <td>0</td>\n",
       "      <td>1</td>\n",
       "    </tr>\n",
       "  </tbody>\n",
       "</table>\n",
       "<p>5 rows × 42 columns</p>\n",
       "</div>"
      ],
      "text/plain": [
       "   age  balance  day  duration  campaign  pdays  previous  job_blue-collar  \\\n",
       "0   58     2143    5       261         1     -1         0                0   \n",
       "1   44       29    5       151         1     -1         0                0   \n",
       "2   33        2    5        76         1     -1         0                0   \n",
       "3   47     1506    5        92         1     -1         0                1   \n",
       "4   33        1    5       198         1     -1         0                0   \n",
       "\n",
       "   job_entrepreneur  job_housemaid  ...  month_jul  month_jun  month_mar  \\\n",
       "0                 0              0  ...          0          0          0   \n",
       "1                 0              0  ...          0          0          0   \n",
       "2                 1              0  ...          0          0          0   \n",
       "3                 0              0  ...          0          0          0   \n",
       "4                 0              0  ...          0          0          0   \n",
       "\n",
       "   month_may  month_nov  month_oct  month_sep  poutcome_other  \\\n",
       "0          1          0          0          0               0   \n",
       "1          1          0          0          0               0   \n",
       "2          1          0          0          0               0   \n",
       "3          1          0          0          0               0   \n",
       "4          1          0          0          0               0   \n",
       "\n",
       "   poutcome_success  poutcome_unknown  \n",
       "0                 0                 1  \n",
       "1                 0                 1  \n",
       "2                 0                 1  \n",
       "3                 0                 1  \n",
       "4                 0                 1  \n",
       "\n",
       "[5 rows x 42 columns]"
      ]
     },
     "metadata": {},
     "output_type": "display_data"
    }
   ],
   "source": [
    "X_dummy = pd.get_dummies(X, drop_first=True)\n",
    "display(X_dummy.head())"
   ]
  },
  {
   "cell_type": "code",
   "execution_count": 9,
   "id": "complex-legislation",
   "metadata": {},
   "outputs": [
    {
     "name": "stdout",
     "output_type": "stream",
     "text": [
      "[0 0 0 ... 1 0 0]\n"
     ]
    }
   ],
   "source": [
    "y_dummy = np.array(pd.get_dummies(y, drop_first=True)).reshape(len(y,))\n",
    "print(y_dummy)"
   ]
  },
  {
   "cell_type": "markdown",
   "id": "choice-singer",
   "metadata": {},
   "source": [
    "#### Split train and test dataset:"
   ]
  },
  {
   "cell_type": "code",
   "execution_count": 10,
   "id": "veterinary-metro",
   "metadata": {},
   "outputs": [],
   "source": [
    "X_train, X_test, y_train, y_test = train_test_split(X_dummy, y_dummy, test_size=0.2, random_state=120)"
   ]
  },
  {
   "cell_type": "markdown",
   "id": "every-world",
   "metadata": {},
   "source": [
    "### Naive Bayes Classifier:"
   ]
  },
  {
   "cell_type": "markdown",
   "id": "processed-index",
   "metadata": {},
   "source": [
    "#### Create and fit model:"
   ]
  },
  {
   "cell_type": "code",
   "execution_count": 11,
   "id": "recovered-crack",
   "metadata": {},
   "outputs": [
    {
     "data": {
      "text/plain": [
       "GaussianNB()"
      ]
     },
     "execution_count": 11,
     "metadata": {},
     "output_type": "execute_result"
    }
   ],
   "source": [
    "model = GaussianNB()\n",
    "model.fit(X_train, y_train)"
   ]
  },
  {
   "cell_type": "markdown",
   "id": "found-attendance",
   "metadata": {},
   "source": [
    "#### Check accuracy on test set:"
   ]
  },
  {
   "cell_type": "code",
   "execution_count": 12,
   "id": "entire-paradise",
   "metadata": {},
   "outputs": [],
   "source": [
    "y_pred = model.predict(X_test)"
   ]
  },
  {
   "cell_type": "code",
   "execution_count": 13,
   "id": "executed-share",
   "metadata": {},
   "outputs": [
    {
     "name": "stdout",
     "output_type": "stream",
     "text": [
      "Accuracy on test set: 0.8601127944266284\n"
     ]
    }
   ],
   "source": [
    "print(\"Accuracy on test set:\", metrics.accuracy_score(y_pred, y_test))"
   ]
  },
  {
   "cell_type": "code",
   "execution_count": 14,
   "id": "cellular-sugar",
   "metadata": {},
   "outputs": [
    {
     "name": "stdout",
     "output_type": "stream",
     "text": [
      "Recall score: 0.41185897435897434\n"
     ]
    }
   ],
   "source": [
    "print(\"Recall score:\", metrics.recall_score(y_pred, y_test))"
   ]
  },
  {
   "cell_type": "code",
   "execution_count": 15,
   "id": "junior-works",
   "metadata": {},
   "outputs": [
    {
     "name": "stdout",
     "output_type": "stream",
     "text": [
      "F1 score: 0.44832097688617534\n"
     ]
    }
   ],
   "source": [
    "print(\"F1 score:\", metrics.f1_score(y_pred, y_test))"
   ]
  },
  {
   "cell_type": "code",
   "execution_count": 16,
   "id": "desperate-narrative",
   "metadata": {},
   "outputs": [
    {
     "name": "stdout",
     "output_type": "stream",
     "text": [
      "[[7264  734]\n",
      " [ 531  514]]\n"
     ]
    }
   ],
   "source": [
    "print(metrics.confusion_matrix(y_test, y_pred))"
   ]
  },
  {
   "cell_type": "markdown",
   "id": "hidden-national",
   "metadata": {},
   "source": [
    "### Logistic regression:"
   ]
  },
  {
   "cell_type": "markdown",
   "id": "confirmed-coalition",
   "metadata": {},
   "source": [
    "#### Create and fit model:"
   ]
  },
  {
   "cell_type": "code",
   "execution_count": 17,
   "id": "smart-excitement",
   "metadata": {},
   "outputs": [
    {
     "data": {
      "text/plain": [
       "LogisticRegression(class_weight='balanced', solver='liblinear')"
      ]
     },
     "execution_count": 17,
     "metadata": {},
     "output_type": "execute_result"
    }
   ],
   "source": [
    "model = LogisticRegression(solver='liblinear', max_iter=100, class_weight = 'balanced')\n",
    "# Setting balanced class weight to reduce effects of imbalanced classes\n",
    "model.fit(X_train, y_train)"
   ]
  },
  {
   "cell_type": "markdown",
   "id": "laughing-employer",
   "metadata": {},
   "source": [
    "#### Check accuracy on test set:"
   ]
  },
  {
   "cell_type": "code",
   "execution_count": 18,
   "id": "julian-plymouth",
   "metadata": {},
   "outputs": [],
   "source": [
    "y_pred = model.predict(X_test)"
   ]
  },
  {
   "cell_type": "code",
   "execution_count": 19,
   "id": "induced-theorem",
   "metadata": {},
   "outputs": [
    {
     "name": "stdout",
     "output_type": "stream",
     "text": [
      "Accuracy on test set: 0.8486121862213867\n"
     ]
    }
   ],
   "source": [
    "print(\"Accuracy on test set:\", metrics.accuracy_score(y_pred, y_test))"
   ]
  },
  {
   "cell_type": "code",
   "execution_count": 20,
   "id": "absent-victorian",
   "metadata": {},
   "outputs": [
    {
     "name": "stdout",
     "output_type": "stream",
     "text": [
      "Recall score: 0.42143549951503395\n"
     ]
    }
   ],
   "source": [
    "print(\"Recall score:\", metrics.recall_score(y_pred, y_test)) \n",
    "# recall score: correct positive predictions made out of all positive predictions"
   ]
  },
  {
   "cell_type": "code",
   "execution_count": 21,
   "id": "vocal-copying",
   "metadata": {},
   "outputs": [
    {
     "name": "stdout",
     "output_type": "stream",
     "text": [
      "F1 score: 0.5593820405535888\n"
     ]
    }
   ],
   "source": [
    "print(\"F1 score:\", metrics.f1_score(y_pred, y_test))"
   ]
  },
  {
   "cell_type": "code",
   "execution_count": 22,
   "id": "neutral-myrtle",
   "metadata": {},
   "outputs": [
    {
     "name": "stdout",
     "output_type": "stream",
     "text": [
      "[[6805 1193]\n",
      " [ 176  869]]\n"
     ]
    }
   ],
   "source": [
    "print(metrics.confusion_matrix(y_test, y_pred))"
   ]
  },
  {
   "cell_type": "markdown",
   "id": "white-somewhere",
   "metadata": {},
   "source": [
    "Note: <br>\n",
    "> By setting class_weight to 'balanced', the logistic regression works better than Naive Bayes Classifier on finding positive samples (clients who subscribe to a term deposit) but classifies negative samples worse.\n",
    "\n",
    "> In reality, by having a formula containing average profit made by a new term deposit subscription and cost incurred by marketing efforts, we may pick out the best model and the best parameters (for example, 'class_weight' of Logistic Regression) in terms of earned profits through examining the confusion matrix."
   ]
  },
  {
   "cell_type": "markdown",
   "id": "assured-clearance",
   "metadata": {},
   "source": [
    "### Evaluation using profit formula:"
   ]
  },
  {
   "cell_type": "markdown",
   "id": "seventh-young",
   "metadata": {},
   "source": [
    "Assume that: <br>\n",
    "- Average profit earned by a term deposit: $1000 \n",
    "\n",
    "- Average cost inccured by a marketing effort: $2 <br>"
   ]
  },
  {
   "cell_type": "markdown",
   "id": "comprehensive-thomas",
   "metadata": {},
   "source": [
    "Formula: Profit = 1000\\*x1 - 2\\*x2 <br>\n",
    "    with: <br>\n",
    "        + x1: number of term deposits (true positive) <br>\n",
    "        + x2: number of marketing efforts made (all predicted positive)"
   ]
  },
  {
   "cell_type": "markdown",
   "id": "aerial-repeat",
   "metadata": {},
   "source": [
    "#### Naive Bayes Classifier"
   ]
  },
  {
   "cell_type": "code",
   "execution_count": 23,
   "id": "selected-madonna",
   "metadata": {},
   "outputs": [
    {
     "name": "stdout",
     "output_type": "stream",
     "text": [
      "[[7264  734]\n",
      " [ 531  514]]\n"
     ]
    }
   ],
   "source": [
    "model = GaussianNB()\n",
    "model.fit(X_train, y_train)\n",
    "\n",
    "y_pred = model.predict(X_test)\n",
    "nb_cm = metrics.confusion_matrix(y_test, y_pred)\n",
    "print(nb_cm)"
   ]
  },
  {
   "cell_type": "code",
   "execution_count": 24,
   "id": "strange-malawi",
   "metadata": {},
   "outputs": [
    {
     "name": "stdout",
     "output_type": "stream",
     "text": [
      "Profit generated by using Naive Bayes Classifier model: 511504\n"
     ]
    }
   ],
   "source": [
    "nb_profit = nb_cm[1,1]*1000 - (nb_cm[1,1]+nb_cm[0,1])*2\n",
    "print(\"Profit generated by using Naive Bayes Classifier model:\", nb_profit)"
   ]
  },
  {
   "cell_type": "markdown",
   "id": "transparent-noise",
   "metadata": {},
   "source": [
    "#### Logistic Regression:"
   ]
  },
  {
   "cell_type": "code",
   "execution_count": 25,
   "id": "prescribed-capability",
   "metadata": {},
   "outputs": [
    {
     "name": "stdout",
     "output_type": "stream",
     "text": [
      "[[6805 1193]\n",
      " [ 176  869]]\n"
     ]
    }
   ],
   "source": [
    "model = LogisticRegression(solver='liblinear', max_iter=100, class_weight = 'balanced')\n",
    "# Setting balanced class weight to reduce effects of imbalanced classes\n",
    "model.fit(X_train, y_train)\n",
    "\n",
    "y_pred = model.predict(X_test)\n",
    "lr_cm = metrics.confusion_matrix(y_test, y_pred)\n",
    "print(lr_cm)"
   ]
  },
  {
   "cell_type": "code",
   "execution_count": 26,
   "id": "national-amendment",
   "metadata": {},
   "outputs": [
    {
     "name": "stdout",
     "output_type": "stream",
     "text": [
      "Profit generated by using Logistic Regression model: 864876\n"
     ]
    }
   ],
   "source": [
    "lr_profit = lr_cm[1,1]*1000 - (lr_cm[1,1]+lr_cm[0,1])*2\n",
    "print(\"Profit generated by using Logistic Regression model:\", lr_profit)"
   ]
  },
  {
   "cell_type": "markdown",
   "id": "skilled-latitude",
   "metadata": {},
   "source": [
    "#### Comparison:"
   ]
  },
  {
   "cell_type": "code",
   "execution_count": 27,
   "id": "national-avenue",
   "metadata": {},
   "outputs": [
    {
     "name": "stdout",
     "output_type": "stream",
     "text": [
      "False\n"
     ]
    }
   ],
   "source": [
    "print(nb_profit>lr_profit)"
   ]
  },
  {
   "cell_type": "markdown",
   "id": "dominican-reasoning",
   "metadata": {},
   "source": [
    "Conclusion: Among two models created above, using the Logistic Regression model is expected to generate more profits than Naive Bayes Classifier model (excluding other costs such as cloud computing cost, etc.)"
   ]
  },
  {
   "cell_type": "markdown",
   "id": "blind-physics",
   "metadata": {},
   "source": [
    "### Generate the best Naive Bayes Classifier and Logistic Regression model by variable selection:"
   ]
  },
  {
   "cell_type": "markdown",
   "id": "banned-california",
   "metadata": {},
   "source": [
    "#### Define backward variable selection function:"
   ]
  },
  {
   "cell_type": "code",
   "execution_count": 28,
   "id": "corporate-invention",
   "metadata": {},
   "outputs": [],
   "source": [
    "def step_mod_backward(model, X_train, y_train, X_test, y_test, **kwargs):\n",
    "    \n",
    "    exog = X_train.columns\n",
    "    selected = set(exog)  # Selected exogenous variables\n",
    "    \n",
    "    mod = model(**kwargs)\n",
    "    mod.fit(X_train, y_train)\n",
    "    y_pred = mod.predict(X_test)\n",
    "    cm = metrics.confusion_matrix(y_test, y_pred)\n",
    "    profit = cm[1,1]*1000 - (cm[1,1]+cm[0,1])*2\n",
    "    current_score, best_new_score = profit, profit\n",
    "\n",
    "    while True:\n",
    "        score_with_candidates = []\n",
    "        for candidate in selected:\n",
    "            trial = selected.copy()\n",
    "            trial.remove(candidate)\n",
    "            mod = model(**kwargs)\n",
    "            mod.fit(X_train[trial], y_train)\n",
    "            y_pred = mod.predict(X_test[trial])\n",
    "            cm = metrics.confusion_matrix(y_test, y_pred)\n",
    "            profit = cm[1,1]*1000 - (cm[1,1]+cm[0,1])*2\n",
    "\n",
    "            score_with_candidates.append((profit, candidate))\n",
    "\n",
    "        score_with_candidates.sort(reverse=False)\n",
    "        best_score, best_candidate = score_with_candidates[0]\n",
    "\n",
    "        improved = False\n",
    "        if best_score > current_score:\n",
    "            selected.remove(best_candidate)\n",
    "            current_score = best_score\n",
    "            improved = True\n",
    "            \n",
    "        if len(selected)==1 or not improved: break\n",
    "\n",
    "    print('Chosen variables:', selected)\n",
    "    mod = model(**kwargs)\n",
    "    mod.fit(X_train[selected], y_train)\n",
    "    y_pred = mod.predict(X_test[selected])\n",
    "    cm = metrics.confusion_matrix(y_test, y_pred)\n",
    "    profit = cm[1,1]*1000 - (cm[1,1]+cm[0,1])*2\n",
    "    print('Profit generated: {}'.format(profit))\n",
    "    return selected"
   ]
  },
  {
   "cell_type": "markdown",
   "id": "promotional-thriller",
   "metadata": {},
   "source": [
    "#### Logistic Regression"
   ]
  },
  {
   "cell_type": "code",
   "execution_count": 29,
   "id": "korean-trace",
   "metadata": {},
   "outputs": [
    {
     "name": "stdout",
     "output_type": "stream",
     "text": [
      "Chosen variables: {'marital_married', 'job_unknown', 'month_jun', 'month_feb', 'housing_yes', 'loan_yes', 'month_nov', 'job_entrepreneur', 'campaign', 'job_retired', 'contact_unknown', 'job_technician', 'age', 'poutcome_success', 'month_may', 'pdays', 'previous', 'contact_telephone', 'month_jan', 'day', 'education_tertiary', 'month_mar', 'job_blue-collar', 'job_housemaid', 'month_sep', 'job_unemployed', 'education_unknown', 'job_management', 'month_oct', 'duration', 'marital_single', 'job_self-employed', 'default_yes', 'balance', 'month_dec', 'month_jul', 'poutcome_other', 'job_services', 'poutcome_unknown', 'education_secondary', 'month_aug', 'job_student'}\n",
      "Profit generated: 861886\n"
     ]
    }
   ],
   "source": [
    "exog1 = step_mod_backward(LogisticRegression, X_train, y_train, X_test, y_test, solver='liblinear', max_iter=100, class_weight = 'balanced')"
   ]
  },
  {
   "cell_type": "code",
   "execution_count": 30,
   "id": "original-astronomy",
   "metadata": {},
   "outputs": [
    {
     "name": "stdout",
     "output_type": "stream",
     "text": [
      "42\n"
     ]
    }
   ],
   "source": [
    "print(len(exog1))"
   ]
  },
  {
   "cell_type": "markdown",
   "id": "single-wichita",
   "metadata": {},
   "source": [
    "#### Naive Bayes Classifier:"
   ]
  },
  {
   "cell_type": "code",
   "execution_count": 31,
   "id": "compatible-reservation",
   "metadata": {},
   "outputs": [
    {
     "name": "stdout",
     "output_type": "stream",
     "text": [
      "Chosen variables: {'marital_married', 'job_unknown', 'month_jun', 'month_feb', 'housing_yes', 'loan_yes', 'month_nov', 'job_entrepreneur', 'campaign', 'job_retired', 'contact_unknown', 'job_technician', 'age', 'poutcome_success', 'month_may', 'pdays', 'previous', 'contact_telephone', 'month_jan', 'day', 'education_tertiary', 'month_mar', 'job_blue-collar', 'job_housemaid', 'month_sep', 'job_unemployed', 'education_unknown', 'job_management', 'month_oct', 'duration', 'marital_single', 'job_self-employed', 'default_yes', 'balance', 'month_dec', 'month_jul', 'poutcome_other', 'job_services', 'poutcome_unknown', 'education_secondary', 'month_aug', 'job_student'}\n",
      "Profit generated: 511504\n"
     ]
    }
   ],
   "source": [
    "exog2 = step_mod_backward(GaussianNB, X_train, y_train, X_test, y_test)"
   ]
  },
  {
   "cell_type": "code",
   "execution_count": 32,
   "id": "increased-maximum",
   "metadata": {},
   "outputs": [
    {
     "name": "stdout",
     "output_type": "stream",
     "text": [
      "42\n"
     ]
    }
   ],
   "source": [
    "print(len(exog2))"
   ]
  },
  {
   "cell_type": "markdown",
   "id": "reserved-solution",
   "metadata": {},
   "source": [
    "#### Comparing with original selected variables:"
   ]
  },
  {
   "cell_type": "code",
   "execution_count": 33,
   "id": "breeding-vertex",
   "metadata": {},
   "outputs": [
    {
     "name": "stdout",
     "output_type": "stream",
     "text": [
      "True\n",
      "True\n"
     ]
    }
   ],
   "source": [
    "print(X_train.shape[1]==len(exog1))\n",
    "print(X_train.shape[1]==len(exog2))"
   ]
  },
  {
   "cell_type": "markdown",
   "id": "organizational-exercise",
   "metadata": {},
   "source": [
    "Conclusion: no variables are excluded from the model."
   ]
  },
  {
   "cell_type": "markdown",
   "id": "adapted-spoke",
   "metadata": {},
   "source": [
    "### Conclusion:"
   ]
  },
  {
   "cell_type": "markdown",
   "id": "cathedral-ranking",
   "metadata": {},
   "source": [
    "1. With the profit formula defined as above, we adopt the model without exclusion of any variables.\n",
    "2. Logistic Regression with its ability to adapt to the imbalance of response values, seems to work better with the datasets and profit formula we define - than Naive Bayes Classifier.\n",
    "3. The Logistic Regression model works better in this case since we focus more on spotting positive response values (potential customer) rather than correctly classifying negative responses.\n",
    "4. We may change the parameters in Logistic Regression for better results (for example, through trying different sets of class_weight)."
   ]
  },
  {
   "cell_type": "code",
   "execution_count": null,
   "id": "waiting-senate",
   "metadata": {},
   "outputs": [],
   "source": []
  }
 ],
 "metadata": {
  "kernelspec": {
   "display_name": "Python 3",
   "language": "python",
   "name": "python3"
  },
  "language_info": {
   "codemirror_mode": {
    "name": "ipython",
    "version": 3
   },
   "file_extension": ".py",
   "mimetype": "text/x-python",
   "name": "python",
   "nbconvert_exporter": "python",
   "pygments_lexer": "ipython3",
   "version": "3.8.8"
  }
 },
 "nbformat": 4,
 "nbformat_minor": 5
}
