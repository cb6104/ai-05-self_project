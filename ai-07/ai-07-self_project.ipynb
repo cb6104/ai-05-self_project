{
 "cells": [
  {
   "cell_type": "markdown",
   "id": "cosmetic-membrane",
   "metadata": {},
   "source": [
    "Data source: https://www.kaggle.com/pashupatigupta/emotion-detection-from-text"
   ]
  },
  {
   "cell_type": "markdown",
   "id": "altered-viewer",
   "metadata": {},
   "source": [
    "### Import libraries:"
   ]
  },
  {
   "cell_type": "code",
   "execution_count": 1,
   "id": "large-simon",
   "metadata": {},
   "outputs": [],
   "source": [
    "import numpy as np\n",
    "import pandas as pd\n",
    "import string, re, os\n",
    "from sklearn.feature_extraction.text import CountVectorizer\n",
    "from sklearn.naive_bayes import MultinomialNB\n",
    "from sklearn.linear_model import LogisticRegression\n",
    "from sklearn.preprocessing import MinMaxScaler, MaxAbsScaler\n",
    "from sklearn.model_selection import StratifiedKFold, train_test_split\n",
    "from sklearn.metrics import accuracy_score, balanced_accuracy_score, auc, roc_auc_score \n",
    "from sklearn.tree import DecisionTreeClassifier\n",
    "from sklearn.pipeline import Pipeline \n",
    "import matplotlib.pyplot as plt\n",
    "import seaborn as sns"
   ]
  },
  {
   "cell_type": "markdown",
   "id": "mobile-editing",
   "metadata": {},
   "source": [
    "### Load data:"
   ]
  },
  {
   "cell_type": "code",
   "execution_count": 2,
   "id": "verified-scheduling",
   "metadata": {},
   "outputs": [
    {
     "data": {
      "text/html": [
       "<div>\n",
       "<style scoped>\n",
       "    .dataframe tbody tr th:only-of-type {\n",
       "        vertical-align: middle;\n",
       "    }\n",
       "\n",
       "    .dataframe tbody tr th {\n",
       "        vertical-align: top;\n",
       "    }\n",
       "\n",
       "    .dataframe thead th {\n",
       "        text-align: right;\n",
       "    }\n",
       "</style>\n",
       "<table border=\"1\" class=\"dataframe\">\n",
       "  <thead>\n",
       "    <tr style=\"text-align: right;\">\n",
       "      <th></th>\n",
       "      <th>tweet_id</th>\n",
       "      <th>sentiment</th>\n",
       "      <th>content</th>\n",
       "    </tr>\n",
       "  </thead>\n",
       "  <tbody>\n",
       "    <tr>\n",
       "      <th>0</th>\n",
       "      <td>1956967341</td>\n",
       "      <td>empty</td>\n",
       "      <td>@tiffanylue i know  i was listenin to bad habi...</td>\n",
       "    </tr>\n",
       "    <tr>\n",
       "      <th>1</th>\n",
       "      <td>1956967666</td>\n",
       "      <td>sadness</td>\n",
       "      <td>Layin n bed with a headache  ughhhh...waitin o...</td>\n",
       "    </tr>\n",
       "    <tr>\n",
       "      <th>2</th>\n",
       "      <td>1956967696</td>\n",
       "      <td>sadness</td>\n",
       "      <td>Funeral ceremony...gloomy friday...</td>\n",
       "    </tr>\n",
       "    <tr>\n",
       "      <th>3</th>\n",
       "      <td>1956967789</td>\n",
       "      <td>enthusiasm</td>\n",
       "      <td>wants to hang out with friends SOON!</td>\n",
       "    </tr>\n",
       "    <tr>\n",
       "      <th>4</th>\n",
       "      <td>1956968416</td>\n",
       "      <td>neutral</td>\n",
       "      <td>@dannycastillo We want to trade with someone w...</td>\n",
       "    </tr>\n",
       "  </tbody>\n",
       "</table>\n",
       "</div>"
      ],
      "text/plain": [
       "     tweet_id   sentiment                                            content\n",
       "0  1956967341       empty  @tiffanylue i know  i was listenin to bad habi...\n",
       "1  1956967666     sadness  Layin n bed with a headache  ughhhh...waitin o...\n",
       "2  1956967696     sadness                Funeral ceremony...gloomy friday...\n",
       "3  1956967789  enthusiasm               wants to hang out with friends SOON!\n",
       "4  1956968416     neutral  @dannycastillo We want to trade with someone w..."
      ]
     },
     "metadata": {},
     "output_type": "display_data"
    }
   ],
   "source": [
    "df = pd.read_csv('tweet_emotions.csv', header=0)\n",
    "display(df.head())"
   ]
  },
  {
   "cell_type": "markdown",
   "id": "incorporated-herald",
   "metadata": {},
   "source": [
    "### Data preprocessing:"
   ]
  },
  {
   "cell_type": "markdown",
   "id": "olympic-payroll",
   "metadata": {},
   "source": [
    "#### Extract X and y:"
   ]
  },
  {
   "cell_type": "code",
   "execution_count": 3,
   "id": "buried-indonesia",
   "metadata": {},
   "outputs": [
    {
     "name": "stdout",
     "output_type": "stream",
     "text": [
      "(40000,)\n",
      "neutral       8638\n",
      "worry         8459\n",
      "happiness     5209\n",
      "sadness       5165\n",
      "love          3842\n",
      "surprise      2187\n",
      "fun           1776\n",
      "relief        1526\n",
      "hate          1323\n",
      "empty          827\n",
      "enthusiasm     759\n",
      "boredom        179\n",
      "anger          110\n",
      "Name: sentiment, dtype: int64\n"
     ]
    }
   ],
   "source": [
    "X = df['content']\n",
    "y = df['sentiment']\n",
    "print(X.shape)\n",
    "print(y.value_counts())"
   ]
  },
  {
   "cell_type": "markdown",
   "id": "intelligent-arbitration",
   "metadata": {},
   "source": [
    "#### Clean text before using CountVectorizer:"
   ]
  },
  {
   "cell_type": "code",
   "execution_count": 4,
   "id": "equal-discovery",
   "metadata": {},
   "outputs": [
    {
     "name": "stderr",
     "output_type": "stream",
     "text": [
      "C:\\Users\\iniad\\Miniconda3\\envs\\ds2021\\lib\\site-packages\\pandas\\core\\indexing.py:1637: SettingWithCopyWarning: \n",
      "A value is trying to be set on a copy of a slice from a DataFrame\n",
      "\n",
      "See the caveats in the documentation: https://pandas.pydata.org/pandas-docs/stable/user_guide/indexing.html#returning-a-view-versus-a-copy\n",
      "  self._setitem_single_block(indexer, value, name)\n"
     ]
    }
   ],
   "source": [
    "for i in range(len(X)):\n",
    "    input_str = X[i]\n",
    "    output_str = re.sub(r'\\d+', '', input_str) # Number removal\n",
    "    punc_trans = {string.punctuation[i]: '' for i in range(len(string.punctuation))}\n",
    "    output_str = output_str.translate(punc_trans) # Punctuation removal\n",
    "    output_str = re.sub(r'@\\S+ ', '', output_str) # Get rid of tags\n",
    "    X.loc[i] = output_str"
   ]
  },
  {
   "cell_type": "code",
   "execution_count": 5,
   "id": "changing-saskatchewan",
   "metadata": {},
   "outputs": [
    {
     "name": "stdout",
     "output_type": "stream",
     "text": [
      "0    i know  i was listenin to bad habit earlier an...\n",
      "1    Layin n bed with a headache  ughhhh...waitin o...\n",
      "2                  Funeral ceremony...gloomy friday...\n",
      "3                 wants to hang out with friends SOON!\n",
      "4    We want to trade with someone who has Houston ...\n",
      "Name: content, dtype: object\n"
     ]
    }
   ],
   "source": [
    "print(X[:5])"
   ]
  },
  {
   "cell_type": "code",
   "execution_count": 6,
   "id": "specialized-shape",
   "metadata": {},
   "outputs": [],
   "source": [
    "X.to_csv('ai-07-self_project.csv')"
   ]
  },
  {
   "cell_type": "markdown",
   "id": "pressing-press",
   "metadata": {},
   "source": [
    "### Conduct analysis"
   ]
  },
  {
   "cell_type": "markdown",
   "id": "enormous-ecuador",
   "metadata": {},
   "source": [
    "#### Define function to get balanced accuracy with k-folds cross validation:"
   ]
  },
  {
   "cell_type": "code",
   "execution_count": 7,
   "id": "south-camcorder",
   "metadata": {},
   "outputs": [],
   "source": [
    "skf = StratifiedKFold(n_splits=4, shuffle=True, random_state=7)\n",
    "acc_score = {}\n",
    "balanced_acc_score = {}\n",
    "\n",
    "def model_acc(model, X, y, skf, **kwargs):\n",
    "    model_name = str(model)\n",
    "    acc_score[model_name] = []\n",
    "    balanced_acc_score[model_name] = []\n",
    "    for train, test in skf.split(X, y):\n",
    "        X_train = X[train]\n",
    "        X_test = X[test]\n",
    "            \n",
    "        vectorizer = CountVectorizer()\n",
    "        vectorizer.fit(X_train)\n",
    "        X_train_bow = vectorizer.transform(X_train)\n",
    "        X_test_bow = vectorizer.transform(X_test)\n",
    "            \n",
    "        mod = model.set_params(**kwargs)\n",
    "        mod.fit(X_train_bow, y[train])\n",
    "        y_pred = model.predict(X_test_bow)\n",
    "        y_prob = model.predict_proba(X_test_bow)\n",
    "        \n",
    "        acc_score[model_name].append(accuracy_score(y[test], y_pred)) # Accuracy score\n",
    "        balanced_acc_score[model_name].append(balanced_accuracy_score(y[test], y_pred)) # Balanced accuracy score\n",
    "        \n",
    "    acc_score[model_name] = np.mean(acc_score[model_name])\n",
    "    balanced_acc_score[model_name] = np.mean(balanced_acc_score[model_name])"
   ]
  },
  {
   "cell_type": "markdown",
   "id": "moved-irrigation",
   "metadata": {},
   "source": [
    "#### Multinomial Naive Bayes:"
   ]
  },
  {
   "cell_type": "code",
   "execution_count": 8,
   "id": "ranking-security",
   "metadata": {},
   "outputs": [],
   "source": [
    "model_acc(MultinomialNB(), X, y, skf, alpha=1)"
   ]
  },
  {
   "cell_type": "markdown",
   "id": "bridal-registration",
   "metadata": {},
   "source": [
    "#### Decision Tree Classifier:"
   ]
  },
  {
   "cell_type": "code",
   "execution_count": 9,
   "id": "liberal-lucas",
   "metadata": {},
   "outputs": [],
   "source": [
    "model_acc(DecisionTreeClassifier(), X, y, skf, class_weight='balanced')"
   ]
  },
  {
   "cell_type": "markdown",
   "id": "worth-hepatitis",
   "metadata": {},
   "source": [
    "#### Logistic Regression:"
   ]
  },
  {
   "cell_type": "code",
   "execution_count": 10,
   "id": "creative-naples",
   "metadata": {},
   "outputs": [],
   "source": [
    "model_acc(LogisticRegression(), X, y, skf, solver='lbfgs', max_iter=1000, multi_class='multinomial')"
   ]
  },
  {
   "cell_type": "markdown",
   "id": "serial-sally",
   "metadata": {},
   "source": [
    "#### Performance of 3 models:"
   ]
  },
  {
   "cell_type": "code",
   "execution_count": 11,
   "id": "incoming-chocolate",
   "metadata": {},
   "outputs": [
    {
     "name": "stdout",
     "output_type": "stream",
     "text": [
      "{'MultinomialNB()': 0.317425, 'DecisionTreeClassifier()': 0.22767500000000002, 'LogisticRegression()': 0.337375}\n",
      "{'MultinomialNB()': 0.14130089245833807, 'DecisionTreeClassifier()': 0.15255691060950818, 'LogisticRegression()': 0.1798168763352339}\n"
     ]
    }
   ],
   "source": [
    "print(acc_score)\n",
    "print(balanced_acc_score)"
   ]
  },
  {
   "cell_type": "markdown",
   "id": "generous-frederick",
   "metadata": {},
   "source": [
    "Comment: Among 3 models, Logistic Regression seems to work the best, though the accuracy got by all models are all poor."
   ]
  },
  {
   "cell_type": "markdown",
   "id": "worse-found",
   "metadata": {},
   "source": [
    "### Check results of the best model (Logistic Regression):"
   ]
  },
  {
   "cell_type": "code",
   "execution_count": 13,
   "id": "printable-closure",
   "metadata": {},
   "outputs": [],
   "source": [
    "X_train, X_test, y_train, y_test = train_test_split(X, y, test_size=0.25, random_state=11, stratify=y)\n",
    "\n",
    "model = LogisticRegression(solver='lbfgs', max_iter=1000, multi_class='multinomial')\n",
    "vectorizer = CountVectorizer()\n",
    "vectorizer.fit(X_train)\n",
    "X_train_bow = vectorizer.transform(X_train)\n",
    "X_test_bow = vectorizer.transform(X_test)\n",
    "results = model.fit(X_train_bow, y_train)\n",
    "y_pred = results.predict(X_test_bow)"
   ]
  },
  {
   "cell_type": "markdown",
   "id": "forced-polls",
   "metadata": {},
   "source": [
    "#### Result dataframe:"
   ]
  },
  {
   "cell_type": "code",
   "execution_count": 14,
   "id": "consolidated-richmond",
   "metadata": {},
   "outputs": [
    {
     "data": {
      "text/html": [
       "<div>\n",
       "<style scoped>\n",
       "    .dataframe tbody tr th:only-of-type {\n",
       "        vertical-align: middle;\n",
       "    }\n",
       "\n",
       "    .dataframe tbody tr th {\n",
       "        vertical-align: top;\n",
       "    }\n",
       "\n",
       "    .dataframe thead th {\n",
       "        text-align: right;\n",
       "    }\n",
       "</style>\n",
       "<table border=\"1\" class=\"dataframe\">\n",
       "  <thead>\n",
       "    <tr style=\"text-align: right;\">\n",
       "      <th>sentiment</th>\n",
       "      <th>anger</th>\n",
       "      <th>boredom</th>\n",
       "      <th>empty</th>\n",
       "      <th>enthusiasm</th>\n",
       "      <th>fun</th>\n",
       "      <th>happiness</th>\n",
       "      <th>hate</th>\n",
       "      <th>love</th>\n",
       "      <th>neutral</th>\n",
       "      <th>relief</th>\n",
       "      <th>sadness</th>\n",
       "      <th>surprise</th>\n",
       "      <th>worry</th>\n",
       "    </tr>\n",
       "    <tr>\n",
       "      <th>row_0</th>\n",
       "      <th></th>\n",
       "      <th></th>\n",
       "      <th></th>\n",
       "      <th></th>\n",
       "      <th></th>\n",
       "      <th></th>\n",
       "      <th></th>\n",
       "      <th></th>\n",
       "      <th></th>\n",
       "      <th></th>\n",
       "      <th></th>\n",
       "      <th></th>\n",
       "      <th></th>\n",
       "    </tr>\n",
       "  </thead>\n",
       "  <tbody>\n",
       "    <tr>\n",
       "      <th>anger</th>\n",
       "      <td>0</td>\n",
       "      <td>0</td>\n",
       "      <td>0</td>\n",
       "      <td>0</td>\n",
       "      <td>0</td>\n",
       "      <td>0</td>\n",
       "      <td>0</td>\n",
       "      <td>0</td>\n",
       "      <td>1</td>\n",
       "      <td>0</td>\n",
       "      <td>0</td>\n",
       "      <td>0</td>\n",
       "      <td>0</td>\n",
       "    </tr>\n",
       "    <tr>\n",
       "      <th>boredom</th>\n",
       "      <td>0</td>\n",
       "      <td>1</td>\n",
       "      <td>3</td>\n",
       "      <td>0</td>\n",
       "      <td>0</td>\n",
       "      <td>0</td>\n",
       "      <td>2</td>\n",
       "      <td>0</td>\n",
       "      <td>1</td>\n",
       "      <td>0</td>\n",
       "      <td>3</td>\n",
       "      <td>1</td>\n",
       "      <td>1</td>\n",
       "    </tr>\n",
       "    <tr>\n",
       "      <th>empty</th>\n",
       "      <td>0</td>\n",
       "      <td>1</td>\n",
       "      <td>2</td>\n",
       "      <td>1</td>\n",
       "      <td>0</td>\n",
       "      <td>2</td>\n",
       "      <td>3</td>\n",
       "      <td>1</td>\n",
       "      <td>6</td>\n",
       "      <td>0</td>\n",
       "      <td>4</td>\n",
       "      <td>1</td>\n",
       "      <td>6</td>\n",
       "    </tr>\n",
       "    <tr>\n",
       "      <th>enthusiasm</th>\n",
       "      <td>0</td>\n",
       "      <td>1</td>\n",
       "      <td>0</td>\n",
       "      <td>1</td>\n",
       "      <td>0</td>\n",
       "      <td>8</td>\n",
       "      <td>1</td>\n",
       "      <td>1</td>\n",
       "      <td>2</td>\n",
       "      <td>2</td>\n",
       "      <td>2</td>\n",
       "      <td>2</td>\n",
       "      <td>5</td>\n",
       "    </tr>\n",
       "    <tr>\n",
       "      <th>fun</th>\n",
       "      <td>0</td>\n",
       "      <td>1</td>\n",
       "      <td>0</td>\n",
       "      <td>3</td>\n",
       "      <td>27</td>\n",
       "      <td>40</td>\n",
       "      <td>1</td>\n",
       "      <td>17</td>\n",
       "      <td>25</td>\n",
       "      <td>4</td>\n",
       "      <td>18</td>\n",
       "      <td>6</td>\n",
       "      <td>31</td>\n",
       "    </tr>\n",
       "    <tr>\n",
       "      <th>happiness</th>\n",
       "      <td>1</td>\n",
       "      <td>2</td>\n",
       "      <td>15</td>\n",
       "      <td>24</td>\n",
       "      <td>118</td>\n",
       "      <td>433</td>\n",
       "      <td>12</td>\n",
       "      <td>184</td>\n",
       "      <td>181</td>\n",
       "      <td>66</td>\n",
       "      <td>49</td>\n",
       "      <td>68</td>\n",
       "      <td>121</td>\n",
       "    </tr>\n",
       "    <tr>\n",
       "      <th>hate</th>\n",
       "      <td>3</td>\n",
       "      <td>2</td>\n",
       "      <td>3</td>\n",
       "      <td>4</td>\n",
       "      <td>2</td>\n",
       "      <td>5</td>\n",
       "      <td>66</td>\n",
       "      <td>4</td>\n",
       "      <td>19</td>\n",
       "      <td>4</td>\n",
       "      <td>28</td>\n",
       "      <td>7</td>\n",
       "      <td>42</td>\n",
       "    </tr>\n",
       "    <tr>\n",
       "      <th>love</th>\n",
       "      <td>0</td>\n",
       "      <td>1</td>\n",
       "      <td>5</td>\n",
       "      <td>9</td>\n",
       "      <td>31</td>\n",
       "      <td>155</td>\n",
       "      <td>5</td>\n",
       "      <td>339</td>\n",
       "      <td>94</td>\n",
       "      <td>28</td>\n",
       "      <td>49</td>\n",
       "      <td>30</td>\n",
       "      <td>59</td>\n",
       "    </tr>\n",
       "    <tr>\n",
       "      <th>neutral</th>\n",
       "      <td>8</td>\n",
       "      <td>9</td>\n",
       "      <td>105</td>\n",
       "      <td>81</td>\n",
       "      <td>154</td>\n",
       "      <td>388</td>\n",
       "      <td>80</td>\n",
       "      <td>206</td>\n",
       "      <td>1206</td>\n",
       "      <td>146</td>\n",
       "      <td>303</td>\n",
       "      <td>196</td>\n",
       "      <td>610</td>\n",
       "    </tr>\n",
       "    <tr>\n",
       "      <th>relief</th>\n",
       "      <td>1</td>\n",
       "      <td>0</td>\n",
       "      <td>3</td>\n",
       "      <td>3</td>\n",
       "      <td>10</td>\n",
       "      <td>25</td>\n",
       "      <td>1</td>\n",
       "      <td>17</td>\n",
       "      <td>19</td>\n",
       "      <td>23</td>\n",
       "      <td>15</td>\n",
       "      <td>14</td>\n",
       "      <td>23</td>\n",
       "    </tr>\n",
       "    <tr>\n",
       "      <th>sadness</th>\n",
       "      <td>1</td>\n",
       "      <td>7</td>\n",
       "      <td>14</td>\n",
       "      <td>16</td>\n",
       "      <td>24</td>\n",
       "      <td>47</td>\n",
       "      <td>68</td>\n",
       "      <td>53</td>\n",
       "      <td>150</td>\n",
       "      <td>22</td>\n",
       "      <td>356</td>\n",
       "      <td>52</td>\n",
       "      <td>294</td>\n",
       "    </tr>\n",
       "    <tr>\n",
       "      <th>surprise</th>\n",
       "      <td>1</td>\n",
       "      <td>1</td>\n",
       "      <td>1</td>\n",
       "      <td>2</td>\n",
       "      <td>11</td>\n",
       "      <td>34</td>\n",
       "      <td>8</td>\n",
       "      <td>25</td>\n",
       "      <td>33</td>\n",
       "      <td>6</td>\n",
       "      <td>17</td>\n",
       "      <td>34</td>\n",
       "      <td>50</td>\n",
       "    </tr>\n",
       "    <tr>\n",
       "      <th>worry</th>\n",
       "      <td>12</td>\n",
       "      <td>19</td>\n",
       "      <td>56</td>\n",
       "      <td>46</td>\n",
       "      <td>67</td>\n",
       "      <td>165</td>\n",
       "      <td>84</td>\n",
       "      <td>113</td>\n",
       "      <td>422</td>\n",
       "      <td>81</td>\n",
       "      <td>447</td>\n",
       "      <td>136</td>\n",
       "      <td>873</td>\n",
       "    </tr>\n",
       "  </tbody>\n",
       "</table>\n",
       "</div>"
      ],
      "text/plain": [
       "sentiment   anger  boredom  empty  enthusiasm  fun  happiness  hate  love  \\\n",
       "row_0                                                                       \n",
       "anger           0        0      0           0    0          0     0     0   \n",
       "boredom         0        1      3           0    0          0     2     0   \n",
       "empty           0        1      2           1    0          2     3     1   \n",
       "enthusiasm      0        1      0           1    0          8     1     1   \n",
       "fun             0        1      0           3   27         40     1    17   \n",
       "happiness       1        2     15          24  118        433    12   184   \n",
       "hate            3        2      3           4    2          5    66     4   \n",
       "love            0        1      5           9   31        155     5   339   \n",
       "neutral         8        9    105          81  154        388    80   206   \n",
       "relief          1        0      3           3   10         25     1    17   \n",
       "sadness         1        7     14          16   24         47    68    53   \n",
       "surprise        1        1      1           2   11         34     8    25   \n",
       "worry          12       19     56          46   67        165    84   113   \n",
       "\n",
       "sentiment   neutral  relief  sadness  surprise  worry  \n",
       "row_0                                                  \n",
       "anger             1       0        0         0      0  \n",
       "boredom           1       0        3         1      1  \n",
       "empty             6       0        4         1      6  \n",
       "enthusiasm        2       2        2         2      5  \n",
       "fun              25       4       18         6     31  \n",
       "happiness       181      66       49        68    121  \n",
       "hate             19       4       28         7     42  \n",
       "love             94      28       49        30     59  \n",
       "neutral        1206     146      303       196    610  \n",
       "relief           19      23       15        14     23  \n",
       "sadness         150      22      356        52    294  \n",
       "surprise         33       6       17        34     50  \n",
       "worry           422      81      447       136    873  "
      ]
     },
     "metadata": {},
     "output_type": "display_data"
    }
   ],
   "source": [
    "result_df = pd.crosstab(y_pred, y_test)\n",
    "display(result_df)"
   ]
  },
  {
   "cell_type": "code",
   "execution_count": 15,
   "id": "indie-basket",
   "metadata": {},
   "outputs": [
    {
     "data": {
      "text/plain": [
       "sentiment\n",
       "anger           27\n",
       "boredom         45\n",
       "empty          207\n",
       "enthusiasm     190\n",
       "fun            444\n",
       "happiness     1302\n",
       "hate           331\n",
       "love           960\n",
       "neutral       2159\n",
       "relief         382\n",
       "sadness       1291\n",
       "surprise       547\n",
       "worry         2115\n",
       "dtype: int64"
      ]
     },
     "metadata": {},
     "output_type": "display_data"
    }
   ],
   "source": [
    "result_df_sum = result_df.sum(axis=0)\n",
    "display(result_df_sum)"
   ]
  },
  {
   "cell_type": "markdown",
   "id": "standard-topic",
   "metadata": {},
   "source": [
    "#### Plot heatmap:"
   ]
  },
  {
   "cell_type": "code",
   "execution_count": 16,
   "id": "viral-memphis",
   "metadata": {},
   "outputs": [
    {
     "data": {
      "image/png": "[encoded data removed]",
      "text/plain": [
       "<Figure size 720x720 with 2 Axes>"
      ]
     },
     "metadata": {
      "needs_background": "light"
     },
     "output_type": "display_data"
    }
   ],
   "source": [
    "plt.figure(figsize=(10,10)) \n",
    "sns.heatmap(result_df/result_df_sum,annot=True,fmt='.2f',cmap='bwr')\n",
    "plt.show()"
   ]
  },
  {
   "cell_type": "markdown",
   "id": "nonprofit-richardson",
   "metadata": {},
   "source": [
    "### Conclusion:"
   ]
  },
  {
   "cell_type": "markdown",
   "id": "acceptable-marine",
   "metadata": {},
   "source": [
    "1. There are some sentiments which are easily messed up with each other: anger and worry, sadness and worry, love and happiness, etc.\n",
    "2. The model tends to predict the sentiment as 'neutral' the most, which may be led by the overwhelming number of tweets which are labeled as 'neutral' comparing to other sentiments."
   ]
  },
  {
   "cell_type": "code",
   "execution_count": null,
   "id": "signed-creek",
   "metadata": {},
   "outputs": [],
   "source": []
  }
 ],
 "metadata": {
  "kernelspec": {
   "display_name": "Python 3",
   "language": "python",
   "name": "python3"
  },
  "language_info": {
   "codemirror_mode": {
    "name": "ipython",
    "version": 3
   },
   "file_extension": ".py",
   "mimetype": "text/x-python",
   "name": "python",
   "nbconvert_exporter": "python",
   "pygments_lexer": "ipython3",
   "version": "3.8.8"
  }
 },
 "nbformat": 4,
 "nbformat_minor": 5
}
