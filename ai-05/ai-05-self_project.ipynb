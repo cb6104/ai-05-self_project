{
 "cells": [
  {
   "cell_type": "markdown",
   "id": "portuguese-significance",
   "metadata": {},
   "source": [
    "### Load libraries:"
   ]
  },
  {
   "cell_type": "code",
   "execution_count": 1,
   "id": "forty-excess",
   "metadata": {},
   "outputs": [],
   "source": [
    "import numpy as np\n",
    "import pandas as pd\n",
    "import matplotlib.pyplot as plt\n",
    "from scipy.cluster.hierarchy import linkage, dendrogram, fcluster\n",
    "import matplotlib.pyplot as plt\n",
    "from sklearn.cluster import KMeans\n",
    "from sklearn.decomposition import PCA\n",
    "from sklearn.preprocessing import StandardScaler\n",
    "from sklearn.model_selection import train_test_split \n",
    "from sklearn.naive_bayes import GaussianNB\n",
    "from sklearn.metrics import accuracy_score"
   ]
  },
  {
   "cell_type": "markdown",
   "id": "racial-idaho",
   "metadata": {},
   "source": [
    "### Load data:"
   ]
  },
  {
   "cell_type": "code",
   "execution_count": 2,
   "id": "major-level",
   "metadata": {},
   "outputs": [
    {
     "data": {
      "text/html": [
       "<div>\n",
       "<style scoped>\n",
       "    .dataframe tbody tr th:only-of-type {\n",
       "        vertical-align: middle;\n",
       "    }\n",
       "\n",
       "    .dataframe tbody tr th {\n",
       "        vertical-align: top;\n",
       "    }\n",
       "\n",
       "    .dataframe thead th {\n",
       "        text-align: right;\n",
       "    }\n",
       "</style>\n",
       "<table border=\"1\" class=\"dataframe\">\n",
       "  <thead>\n",
       "    <tr style=\"text-align: right;\">\n",
       "      <th></th>\n",
       "      <th>0</th>\n",
       "      <th>1</th>\n",
       "      <th>2</th>\n",
       "      <th>3</th>\n",
       "      <th>4</th>\n",
       "      <th>5</th>\n",
       "      <th>6</th>\n",
       "      <th>7</th>\n",
       "      <th>8</th>\n",
       "      <th>9</th>\n",
       "      <th>...</th>\n",
       "      <th>30</th>\n",
       "      <th>31</th>\n",
       "      <th>32</th>\n",
       "      <th>33</th>\n",
       "      <th>34</th>\n",
       "      <th>35</th>\n",
       "      <th>36</th>\n",
       "      <th>37</th>\n",
       "      <th>38</th>\n",
       "      <th>39</th>\n",
       "    </tr>\n",
       "  </thead>\n",
       "  <tbody>\n",
       "    <tr>\n",
       "      <th>0</th>\n",
       "      <td>-0.961933</td>\n",
       "      <td>0.441803</td>\n",
       "      <td>-0.975005</td>\n",
       "      <td>1.417504</td>\n",
       "      <td>0.818815</td>\n",
       "      <td>0.316294</td>\n",
       "      <td>-0.024967</td>\n",
       "      <td>-0.063966</td>\n",
       "      <td>0.031497</td>\n",
       "      <td>-0.350311</td>\n",
       "      <td>...</td>\n",
       "      <td>-0.509591</td>\n",
       "      <td>-0.216725</td>\n",
       "      <td>-0.055506</td>\n",
       "      <td>-0.484449</td>\n",
       "      <td>-0.521581</td>\n",
       "      <td>1.949135</td>\n",
       "      <td>1.324335</td>\n",
       "      <td>0.468147</td>\n",
       "      <td>1.061100</td>\n",
       "      <td>1.655970</td>\n",
       "    </tr>\n",
       "    <tr>\n",
       "      <th>1</th>\n",
       "      <td>-0.292526</td>\n",
       "      <td>-1.139267</td>\n",
       "      <td>0.195837</td>\n",
       "      <td>-1.281121</td>\n",
       "      <td>-0.251439</td>\n",
       "      <td>2.511997</td>\n",
       "      <td>-0.922206</td>\n",
       "      <td>0.059543</td>\n",
       "      <td>-1.409645</td>\n",
       "      <td>-0.656712</td>\n",
       "      <td>...</td>\n",
       "      <td>1.700708</td>\n",
       "      <td>0.007290</td>\n",
       "      <td>0.099062</td>\n",
       "      <td>0.563853</td>\n",
       "      <td>-0.257275</td>\n",
       "      <td>-0.581781</td>\n",
       "      <td>-0.169887</td>\n",
       "      <td>-0.542304</td>\n",
       "      <td>0.312939</td>\n",
       "      <td>-1.284377</td>\n",
       "    </tr>\n",
       "    <tr>\n",
       "      <th>2</th>\n",
       "      <td>0.258788</td>\n",
       "      <td>-0.972845</td>\n",
       "      <td>0.588486</td>\n",
       "      <td>-0.800258</td>\n",
       "      <td>-1.820398</td>\n",
       "      <td>-2.058924</td>\n",
       "      <td>-0.064764</td>\n",
       "      <td>1.592124</td>\n",
       "      <td>-0.173117</td>\n",
       "      <td>-0.121087</td>\n",
       "      <td>...</td>\n",
       "      <td>-0.615472</td>\n",
       "      <td>0.009999</td>\n",
       "      <td>0.945810</td>\n",
       "      <td>-0.318521</td>\n",
       "      <td>-0.117889</td>\n",
       "      <td>0.621366</td>\n",
       "      <td>-0.070764</td>\n",
       "      <td>0.401682</td>\n",
       "      <td>-0.016227</td>\n",
       "      <td>-0.526553</td>\n",
       "    </tr>\n",
       "    <tr>\n",
       "      <th>3</th>\n",
       "      <td>-1.152132</td>\n",
       "      <td>-2.213168</td>\n",
       "      <td>-0.861525</td>\n",
       "      <td>0.630925</td>\n",
       "      <td>0.951772</td>\n",
       "      <td>-1.165724</td>\n",
       "      <td>-0.391559</td>\n",
       "      <td>1.063619</td>\n",
       "      <td>-0.350009</td>\n",
       "      <td>-1.489058</td>\n",
       "      <td>...</td>\n",
       "      <td>-0.284277</td>\n",
       "      <td>0.198946</td>\n",
       "      <td>-0.091833</td>\n",
       "      <td>0.349628</td>\n",
       "      <td>-0.298910</td>\n",
       "      <td>1.513696</td>\n",
       "      <td>0.671185</td>\n",
       "      <td>0.010855</td>\n",
       "      <td>-1.043689</td>\n",
       "      <td>1.625275</td>\n",
       "    </tr>\n",
       "    <tr>\n",
       "      <th>4</th>\n",
       "      <td>0.195783</td>\n",
       "      <td>0.593306</td>\n",
       "      <td>0.282992</td>\n",
       "      <td>0.247147</td>\n",
       "      <td>1.978668</td>\n",
       "      <td>-0.871018</td>\n",
       "      <td>-0.989715</td>\n",
       "      <td>-1.032253</td>\n",
       "      <td>-1.109654</td>\n",
       "      <td>-0.385142</td>\n",
       "      <td>...</td>\n",
       "      <td>-0.692998</td>\n",
       "      <td>-0.845707</td>\n",
       "      <td>-0.177497</td>\n",
       "      <td>-0.166491</td>\n",
       "      <td>1.483155</td>\n",
       "      <td>-1.687946</td>\n",
       "      <td>-0.141430</td>\n",
       "      <td>0.200778</td>\n",
       "      <td>-0.675942</td>\n",
       "      <td>2.220611</td>\n",
       "    </tr>\n",
       "  </tbody>\n",
       "</table>\n",
       "<p>5 rows × 40 columns</p>\n",
       "</div>"
      ],
      "text/plain": [
       "         0         1         2         3         4         5         6   \\\n",
       "0 -0.961933  0.441803 -0.975005  1.417504  0.818815  0.316294 -0.024967   \n",
       "1 -0.292526 -1.139267  0.195837 -1.281121 -0.251439  2.511997 -0.922206   \n",
       "2  0.258788 -0.972845  0.588486 -0.800258 -1.820398 -2.058924 -0.064764   \n",
       "3 -1.152132 -2.213168 -0.861525  0.630925  0.951772 -1.165724 -0.391559   \n",
       "4  0.195783  0.593306  0.282992  0.247147  1.978668 -0.871018 -0.989715   \n",
       "\n",
       "         7         8         9   ...        30        31        32        33  \\\n",
       "0 -0.063966  0.031497 -0.350311  ... -0.509591 -0.216725 -0.055506 -0.484449   \n",
       "1  0.059543 -1.409645 -0.656712  ...  1.700708  0.007290  0.099062  0.563853   \n",
       "2  1.592124 -0.173117 -0.121087  ... -0.615472  0.009999  0.945810 -0.318521   \n",
       "3  1.063619 -0.350009 -1.489058  ... -0.284277  0.198946 -0.091833  0.349628   \n",
       "4 -1.032253 -1.109654 -0.385142  ... -0.692998 -0.845707 -0.177497 -0.166491   \n",
       "\n",
       "         34        35        36        37        38        39  \n",
       "0 -0.521581  1.949135  1.324335  0.468147  1.061100  1.655970  \n",
       "1 -0.257275 -0.581781 -0.169887 -0.542304  0.312939 -1.284377  \n",
       "2 -0.117889  0.621366 -0.070764  0.401682 -0.016227 -0.526553  \n",
       "3 -0.298910  1.513696  0.671185  0.010855 -1.043689  1.625275  \n",
       "4  1.483155 -1.687946 -0.141430  0.200778 -0.675942  2.220611  \n",
       "\n",
       "[5 rows x 40 columns]"
      ]
     },
     "metadata": {},
     "output_type": "display_data"
    }
   ],
   "source": [
    "df = pd.read_csv(\"Ch10Ex11.csv\", header=None)\n",
    "display(df.head())"
   ]
  },
  {
   "cell_type": "code",
   "execution_count": 3,
   "id": "comprehensive-affair",
   "metadata": {},
   "outputs": [
    {
     "name": "stdout",
     "output_type": "stream",
     "text": [
      "(1000, 40)\n"
     ]
    }
   ],
   "source": [
    "print(df.shape)"
   ]
  },
  {
   "cell_type": "markdown",
   "id": "familiar-secret",
   "metadata": {},
   "source": [
    "### Reshape dataframe:"
   ]
  },
  {
   "cell_type": "code",
   "execution_count": 4,
   "id": "subject-joseph",
   "metadata": {},
   "outputs": [
    {
     "data": {
      "text/html": [
       "<div>\n",
       "<style scoped>\n",
       "    .dataframe tbody tr th:only-of-type {\n",
       "        vertical-align: middle;\n",
       "    }\n",
       "\n",
       "    .dataframe tbody tr th {\n",
       "        vertical-align: top;\n",
       "    }\n",
       "\n",
       "    .dataframe thead th {\n",
       "        text-align: right;\n",
       "    }\n",
       "</style>\n",
       "<table border=\"1\" class=\"dataframe\">\n",
       "  <thead>\n",
       "    <tr style=\"text-align: right;\">\n",
       "      <th></th>\n",
       "      <th>0</th>\n",
       "      <th>1</th>\n",
       "      <th>2</th>\n",
       "      <th>3</th>\n",
       "      <th>4</th>\n",
       "      <th>5</th>\n",
       "      <th>6</th>\n",
       "      <th>7</th>\n",
       "      <th>8</th>\n",
       "      <th>9</th>\n",
       "      <th>...</th>\n",
       "      <th>990</th>\n",
       "      <th>991</th>\n",
       "      <th>992</th>\n",
       "      <th>993</th>\n",
       "      <th>994</th>\n",
       "      <th>995</th>\n",
       "      <th>996</th>\n",
       "      <th>997</th>\n",
       "      <th>998</th>\n",
       "      <th>999</th>\n",
       "    </tr>\n",
       "  </thead>\n",
       "  <tbody>\n",
       "    <tr>\n",
       "      <th>0</th>\n",
       "      <td>-0.961933</td>\n",
       "      <td>-0.292526</td>\n",
       "      <td>0.258788</td>\n",
       "      <td>-1.152132</td>\n",
       "      <td>0.195783</td>\n",
       "      <td>0.030124</td>\n",
       "      <td>0.085418</td>\n",
       "      <td>1.116610</td>\n",
       "      <td>-1.218857</td>\n",
       "      <td>1.267369</td>\n",
       "      <td>...</td>\n",
       "      <td>1.325041</td>\n",
       "      <td>-0.116171</td>\n",
       "      <td>-1.470146</td>\n",
       "      <td>-0.379272</td>\n",
       "      <td>-1.465006</td>\n",
       "      <td>1.075148</td>\n",
       "      <td>-1.226125</td>\n",
       "      <td>-3.056328</td>\n",
       "      <td>1.450658</td>\n",
       "      <td>0.717977</td>\n",
       "    </tr>\n",
       "    <tr>\n",
       "      <th>1</th>\n",
       "      <td>0.441803</td>\n",
       "      <td>-1.139267</td>\n",
       "      <td>-0.972845</td>\n",
       "      <td>-2.213168</td>\n",
       "      <td>0.593306</td>\n",
       "      <td>-0.691014</td>\n",
       "      <td>-1.113054</td>\n",
       "      <td>1.341700</td>\n",
       "      <td>-1.277279</td>\n",
       "      <td>-0.918349</td>\n",
       "      <td>...</td>\n",
       "      <td>0.740838</td>\n",
       "      <td>-0.162392</td>\n",
       "      <td>-0.633375</td>\n",
       "      <td>-0.895521</td>\n",
       "      <td>2.034465</td>\n",
       "      <td>3.003267</td>\n",
       "      <td>-0.501702</td>\n",
       "      <td>0.449889</td>\n",
       "      <td>1.310348</td>\n",
       "      <td>0.763482</td>\n",
       "    </tr>\n",
       "    <tr>\n",
       "      <th>2</th>\n",
       "      <td>-0.975005</td>\n",
       "      <td>0.195837</td>\n",
       "      <td>0.588486</td>\n",
       "      <td>-0.861525</td>\n",
       "      <td>0.282992</td>\n",
       "      <td>-0.403426</td>\n",
       "      <td>-0.677969</td>\n",
       "      <td>0.103278</td>\n",
       "      <td>-0.558925</td>\n",
       "      <td>-1.253500</td>\n",
       "      <td>...</td>\n",
       "      <td>-0.435533</td>\n",
       "      <td>-0.235912</td>\n",
       "      <td>1.446660</td>\n",
       "      <td>-1.127459</td>\n",
       "      <td>0.440849</td>\n",
       "      <td>-0.123441</td>\n",
       "      <td>-0.717430</td>\n",
       "      <td>1.880362</td>\n",
       "      <td>0.383837</td>\n",
       "      <td>0.313576</td>\n",
       "    </tr>\n",
       "    <tr>\n",
       "      <th>3</th>\n",
       "      <td>1.417504</td>\n",
       "      <td>-1.281121</td>\n",
       "      <td>-0.800258</td>\n",
       "      <td>0.630925</td>\n",
       "      <td>0.247147</td>\n",
       "      <td>-0.729859</td>\n",
       "      <td>-0.562929</td>\n",
       "      <td>0.390963</td>\n",
       "      <td>-1.344493</td>\n",
       "      <td>-1.067114</td>\n",
       "      <td>...</td>\n",
       "      <td>-3.065529</td>\n",
       "      <td>1.597294</td>\n",
       "      <td>0.737478</td>\n",
       "      <td>-0.631248</td>\n",
       "      <td>-0.530442</td>\n",
       "      <td>-1.036740</td>\n",
       "      <td>-0.169113</td>\n",
       "      <td>-0.742841</td>\n",
       "      <td>-0.408860</td>\n",
       "      <td>-0.326473</td>\n",
       "    </tr>\n",
       "    <tr>\n",
       "      <th>4</th>\n",
       "      <td>0.818815</td>\n",
       "      <td>-0.251439</td>\n",
       "      <td>-1.820398</td>\n",
       "      <td>0.951772</td>\n",
       "      <td>1.978668</td>\n",
       "      <td>-0.364099</td>\n",
       "      <td>0.938194</td>\n",
       "      <td>-1.927491</td>\n",
       "      <td>1.159115</td>\n",
       "      <td>-0.240638</td>\n",
       "      <td>...</td>\n",
       "      <td>-2.378938</td>\n",
       "      <td>-0.086946</td>\n",
       "      <td>-0.122342</td>\n",
       "      <td>1.418029</td>\n",
       "      <td>1.075337</td>\n",
       "      <td>-1.270604</td>\n",
       "      <td>0.599530</td>\n",
       "      <td>2.238346</td>\n",
       "      <td>-0.471111</td>\n",
       "      <td>-0.158700</td>\n",
       "    </tr>\n",
       "  </tbody>\n",
       "</table>\n",
       "<p>5 rows × 1000 columns</p>\n",
       "</div>"
      ],
      "text/plain": [
       "        0         1         2         3         4         5         6    \\\n",
       "0 -0.961933 -0.292526  0.258788 -1.152132  0.195783  0.030124  0.085418   \n",
       "1  0.441803 -1.139267 -0.972845 -2.213168  0.593306 -0.691014 -1.113054   \n",
       "2 -0.975005  0.195837  0.588486 -0.861525  0.282992 -0.403426 -0.677969   \n",
       "3  1.417504 -1.281121 -0.800258  0.630925  0.247147 -0.729859 -0.562929   \n",
       "4  0.818815 -0.251439 -1.820398  0.951772  1.978668 -0.364099  0.938194   \n",
       "\n",
       "        7         8         9    ...       990       991       992       993  \\\n",
       "0  1.116610 -1.218857  1.267369  ...  1.325041 -0.116171 -1.470146 -0.379272   \n",
       "1  1.341700 -1.277279 -0.918349  ...  0.740838 -0.162392 -0.633375 -0.895521   \n",
       "2  0.103278 -0.558925 -1.253500  ... -0.435533 -0.235912  1.446660 -1.127459   \n",
       "3  0.390963 -1.344493 -1.067114  ... -3.065529  1.597294  0.737478 -0.631248   \n",
       "4 -1.927491  1.159115 -0.240638  ... -2.378938 -0.086946 -0.122342  1.418029   \n",
       "\n",
       "        994       995       996       997       998       999  \n",
       "0 -1.465006  1.075148 -1.226125 -3.056328  1.450658  0.717977  \n",
       "1  2.034465  3.003267 -0.501702  0.449889  1.310348  0.763482  \n",
       "2  0.440849 -0.123441 -0.717430  1.880362  0.383837  0.313576  \n",
       "3 -0.530442 -1.036740 -0.169113 -0.742841 -0.408860 -0.326473  \n",
       "4  1.075337 -1.270604  0.599530  2.238346 -0.471111 -0.158700  \n",
       "\n",
       "[5 rows x 1000 columns]"
      ]
     },
     "metadata": {},
     "output_type": "display_data"
    }
   ],
   "source": [
    "df = df.T\n",
    "display(df.head())"
   ]
  },
  {
   "cell_type": "markdown",
   "id": "veterinary-infrastructure",
   "metadata": {},
   "source": [
    "### Conduct hierarchical clustering:"
   ]
  },
  {
   "cell_type": "code",
   "execution_count": 5,
   "id": "hawaiian-monthly",
   "metadata": {},
   "outputs": [
    {
     "data": {
      "text/html": [
       "<div>\n",
       "<style scoped>\n",
       "    .dataframe tbody tr th:only-of-type {\n",
       "        vertical-align: middle;\n",
       "    }\n",
       "\n",
       "    .dataframe tbody tr th {\n",
       "        vertical-align: top;\n",
       "    }\n",
       "\n",
       "    .dataframe thead th {\n",
       "        text-align: right;\n",
       "    }\n",
       "</style>\n",
       "<table border=\"1\" class=\"dataframe\">\n",
       "  <thead>\n",
       "    <tr style=\"text-align: right;\">\n",
       "      <th></th>\n",
       "      <th>label1</th>\n",
       "      <th>label2</th>\n",
       "      <th>distance</th>\n",
       "      <th>#members</th>\n",
       "    </tr>\n",
       "  </thead>\n",
       "  <tbody>\n",
       "    <tr>\n",
       "      <th>merged40</th>\n",
       "      <td>27</td>\n",
       "      <td>31</td>\n",
       "      <td>42.096535</td>\n",
       "      <td>2</td>\n",
       "    </tr>\n",
       "    <tr>\n",
       "      <th>merged41</th>\n",
       "      <td>10</td>\n",
       "      <td>14</td>\n",
       "      <td>42.531823</td>\n",
       "      <td>2</td>\n",
       "    </tr>\n",
       "    <tr>\n",
       "      <th>merged42</th>\n",
       "      <td>20</td>\n",
       "      <td>34</td>\n",
       "      <td>42.631657</td>\n",
       "      <td>2</td>\n",
       "    </tr>\n",
       "    <tr>\n",
       "      <th>merged43</th>\n",
       "      <td>23</td>\n",
       "      <td>29</td>\n",
       "      <td>42.775864</td>\n",
       "      <td>2</td>\n",
       "    </tr>\n",
       "    <tr>\n",
       "      <th>merged44</th>\n",
       "      <td>9</td>\n",
       "      <td>17</td>\n",
       "      <td>42.925283</td>\n",
       "      <td>2</td>\n",
       "    </tr>\n",
       "  </tbody>\n",
       "</table>\n",
       "</div>"
      ],
      "text/plain": [
       "          label1  label2   distance  #members\n",
       "merged40      27      31  42.096535         2\n",
       "merged41      10      14  42.531823         2\n",
       "merged42      20      34  42.631657         2\n",
       "merged43      23      29  42.775864         2\n",
       "merged44       9      17  42.925283         2"
      ]
     },
     "metadata": {},
     "output_type": "display_data"
    },
    {
     "data": {
      "text/html": [
       "<div>\n",
       "<style scoped>\n",
       "    .dataframe tbody tr th:only-of-type {\n",
       "        vertical-align: middle;\n",
       "    }\n",
       "\n",
       "    .dataframe tbody tr th {\n",
       "        vertical-align: top;\n",
       "    }\n",
       "\n",
       "    .dataframe thead th {\n",
       "        text-align: right;\n",
       "    }\n",
       "</style>\n",
       "<table border=\"1\" class=\"dataframe\">\n",
       "  <thead>\n",
       "    <tr style=\"text-align: right;\">\n",
       "      <th></th>\n",
       "      <th>label1</th>\n",
       "      <th>label2</th>\n",
       "      <th>distance</th>\n",
       "      <th>#members</th>\n",
       "    </tr>\n",
       "  </thead>\n",
       "  <tbody>\n",
       "    <tr>\n",
       "      <th>merged74</th>\n",
       "      <td>50</td>\n",
       "      <td>70</td>\n",
       "      <td>47.608066</td>\n",
       "      <td>9</td>\n",
       "    </tr>\n",
       "    <tr>\n",
       "      <th>merged75</th>\n",
       "      <td>67</td>\n",
       "      <td>69</td>\n",
       "      <td>47.796108</td>\n",
       "      <td>11</td>\n",
       "    </tr>\n",
       "    <tr>\n",
       "      <th>merged76</th>\n",
       "      <td>71</td>\n",
       "      <td>73</td>\n",
       "      <td>48.492297</td>\n",
       "      <td>20</td>\n",
       "    </tr>\n",
       "    <tr>\n",
       "      <th>merged77</th>\n",
       "      <td>74</td>\n",
       "      <td>75</td>\n",
       "      <td>48.835562</td>\n",
       "      <td>20</td>\n",
       "    </tr>\n",
       "    <tr>\n",
       "      <th>merged78</th>\n",
       "      <td>76</td>\n",
       "      <td>77</td>\n",
       "      <td>105.175382</td>\n",
       "      <td>40</td>\n",
       "    </tr>\n",
       "  </tbody>\n",
       "</table>\n",
       "</div>"
      ],
      "text/plain": [
       "          label1  label2    distance  #members\n",
       "merged74      50      70   47.608066         9\n",
       "merged75      67      69   47.796108        11\n",
       "merged76      71      73   48.492297        20\n",
       "merged77      74      75   48.835562        20\n",
       "merged78      76      77  105.175382        40"
      ]
     },
     "metadata": {},
     "output_type": "display_data"
    }
   ],
   "source": [
    "Z = linkage(df, method='ward', metric='euclidean')\n",
    "n_data = Z.shape[0]\n",
    "df_Z = pd.DataFrame(Z,\n",
    "                    columns=['label1', 'label2',\n",
    "                             'distance', '#members'],\n",
    "                    index=['merged{}'.format(i+1+n_data) \n",
    "                           for i in range(n_data)])\n",
    "df_Z['label1'] = df_Z['label1'].astype('int')\n",
    "df_Z['label2'] = df_Z['label2'].astype('int')\n",
    "df_Z['#members'] = df_Z['#members'].astype('int')\n",
    "display(df_Z.head())\n",
    "display(df_Z.tail())"
   ]
  },
  {
   "cell_type": "markdown",
   "id": "adjusted-pittsburgh",
   "metadata": {},
   "source": [
    "#### Draw denogram:"
   ]
  },
  {
   "cell_type": "code",
   "execution_count": 6,
   "id": "drawn-qualification",
   "metadata": {},
   "outputs": [
    {
     "data": {
      "image/png": "[encoded data removed]",
      "text/plain": [
       "<Figure size 432x288 with 1 Axes>"
      ]
     },
     "metadata": {
      "needs_background": "light"
     },
     "output_type": "display_data"
    }
   ],
   "source": [
    "dendr = dendrogram(Z, labels=df.index)\n",
    "plt.xticks(rotation=90)\n",
    "plt.ylabel('Euclidean')\n",
    "plt.show()"
   ]
  },
  {
   "cell_type": "markdown",
   "id": "nominated-switzerland",
   "metadata": {},
   "source": [
    "#### Display results of clustering:"
   ]
  },
  {
   "cell_type": "code",
   "execution_count": 7,
   "id": "moved-capture",
   "metadata": {},
   "outputs": [
    {
     "name": "stdout",
     "output_type": "stream",
     "text": [
      "=== n_clusters: 2 ===\n",
      "dist: 48.83556244931771\n",
      "[2, 2, 2, 2, 2, 2, 2, 2, 2, 2, 2, 2, 2, 2, 2, 2, 2, 2, 2, 2, 1, 1, 1, 1, 1, 1, 1, 1, 1, 1, 1, 1, 1, 1, 1, 1, 1, 1, 1, 1]\n"
     ]
    }
   ],
   "source": [
    "dist = df_Z['distance']\n",
    "n_clusters = 2\n",
    "print('=== n_clusters:', n_clusters, '===')\n",
    "cls = pd.Series(fcluster(Z, n_clusters, criterion='maxclust'), index=df.index)\n",
    "print('dist:', dist[n_data-n_clusters])\n",
    "print(list(cls))"
   ]
  },
  {
   "cell_type": "markdown",
   "id": "saving-agency",
   "metadata": {},
   "source": [
    "#### Trying out all methods:"
   ]
  },
  {
   "cell_type": "code",
   "execution_count": 8,
   "id": "transsexual-cause",
   "metadata": {},
   "outputs": [
    {
     "name": "stdout",
     "output_type": "stream",
     "text": [
      "Method: single\n"
     ]
    },
    {
     "data": {
      "text/html": [
       "<div>\n",
       "<style scoped>\n",
       "    .dataframe tbody tr th:only-of-type {\n",
       "        vertical-align: middle;\n",
       "    }\n",
       "\n",
       "    .dataframe tbody tr th {\n",
       "        vertical-align: top;\n",
       "    }\n",
       "\n",
       "    .dataframe thead th {\n",
       "        text-align: right;\n",
       "    }\n",
       "</style>\n",
       "<table border=\"1\" class=\"dataframe\">\n",
       "  <thead>\n",
       "    <tr style=\"text-align: right;\">\n",
       "      <th>col_0</th>\n",
       "      <th>1</th>\n",
       "      <th>2</th>\n",
       "    </tr>\n",
       "    <tr>\n",
       "      <th>label</th>\n",
       "      <th></th>\n",
       "      <th></th>\n",
       "    </tr>\n",
       "  </thead>\n",
       "  <tbody>\n",
       "    <tr>\n",
       "      <th>Diseased</th>\n",
       "      <td>0</td>\n",
       "      <td>20</td>\n",
       "    </tr>\n",
       "    <tr>\n",
       "      <th>Healthy</th>\n",
       "      <td>20</td>\n",
       "      <td>0</td>\n",
       "    </tr>\n",
       "  </tbody>\n",
       "</table>\n",
       "</div>"
      ],
      "text/plain": [
       "col_0      1   2\n",
       "label           \n",
       "Diseased   0  20\n",
       "Healthy   20   0"
      ]
     },
     "metadata": {},
     "output_type": "display_data"
    },
    {
     "name": "stdout",
     "output_type": "stream",
     "text": [
      "Method: complete\n"
     ]
    },
    {
     "data": {
      "text/html": [
       "<div>\n",
       "<style scoped>\n",
       "    .dataframe tbody tr th:only-of-type {\n",
       "        vertical-align: middle;\n",
       "    }\n",
       "\n",
       "    .dataframe tbody tr th {\n",
       "        vertical-align: top;\n",
       "    }\n",
       "\n",
       "    .dataframe thead th {\n",
       "        text-align: right;\n",
       "    }\n",
       "</style>\n",
       "<table border=\"1\" class=\"dataframe\">\n",
       "  <thead>\n",
       "    <tr style=\"text-align: right;\">\n",
       "      <th>col_0</th>\n",
       "      <th>1</th>\n",
       "      <th>2</th>\n",
       "    </tr>\n",
       "    <tr>\n",
       "      <th>label</th>\n",
       "      <th></th>\n",
       "      <th></th>\n",
       "    </tr>\n",
       "  </thead>\n",
       "  <tbody>\n",
       "    <tr>\n",
       "      <th>Diseased</th>\n",
       "      <td>0</td>\n",
       "      <td>20</td>\n",
       "    </tr>\n",
       "    <tr>\n",
       "      <th>Healthy</th>\n",
       "      <td>20</td>\n",
       "      <td>0</td>\n",
       "    </tr>\n",
       "  </tbody>\n",
       "</table>\n",
       "</div>"
      ],
      "text/plain": [
       "col_0      1   2\n",
       "label           \n",
       "Diseased   0  20\n",
       "Healthy   20   0"
      ]
     },
     "metadata": {},
     "output_type": "display_data"
    },
    {
     "name": "stdout",
     "output_type": "stream",
     "text": [
      "Method: centroid\n"
     ]
    },
    {
     "data": {
      "text/html": [
       "<div>\n",
       "<style scoped>\n",
       "    .dataframe tbody tr th:only-of-type {\n",
       "        vertical-align: middle;\n",
       "    }\n",
       "\n",
       "    .dataframe tbody tr th {\n",
       "        vertical-align: top;\n",
       "    }\n",
       "\n",
       "    .dataframe thead th {\n",
       "        text-align: right;\n",
       "    }\n",
       "</style>\n",
       "<table border=\"1\" class=\"dataframe\">\n",
       "  <thead>\n",
       "    <tr style=\"text-align: right;\">\n",
       "      <th>col_0</th>\n",
       "      <th>1</th>\n",
       "    </tr>\n",
       "    <tr>\n",
       "      <th>label</th>\n",
       "      <th></th>\n",
       "    </tr>\n",
       "  </thead>\n",
       "  <tbody>\n",
       "    <tr>\n",
       "      <th>Diseased</th>\n",
       "      <td>20</td>\n",
       "    </tr>\n",
       "    <tr>\n",
       "      <th>Healthy</th>\n",
       "      <td>20</td>\n",
       "    </tr>\n",
       "  </tbody>\n",
       "</table>\n",
       "</div>"
      ],
      "text/plain": [
       "col_0      1\n",
       "label       \n",
       "Diseased  20\n",
       "Healthy   20"
      ]
     },
     "metadata": {},
     "output_type": "display_data"
    },
    {
     "name": "stdout",
     "output_type": "stream",
     "text": [
      "Method: average\n"
     ]
    },
    {
     "data": {
      "text/html": [
       "<div>\n",
       "<style scoped>\n",
       "    .dataframe tbody tr th:only-of-type {\n",
       "        vertical-align: middle;\n",
       "    }\n",
       "\n",
       "    .dataframe tbody tr th {\n",
       "        vertical-align: top;\n",
       "    }\n",
       "\n",
       "    .dataframe thead th {\n",
       "        text-align: right;\n",
       "    }\n",
       "</style>\n",
       "<table border=\"1\" class=\"dataframe\">\n",
       "  <thead>\n",
       "    <tr style=\"text-align: right;\">\n",
       "      <th>col_0</th>\n",
       "      <th>1</th>\n",
       "      <th>2</th>\n",
       "    </tr>\n",
       "    <tr>\n",
       "      <th>label</th>\n",
       "      <th></th>\n",
       "      <th></th>\n",
       "    </tr>\n",
       "  </thead>\n",
       "  <tbody>\n",
       "    <tr>\n",
       "      <th>Diseased</th>\n",
       "      <td>0</td>\n",
       "      <td>20</td>\n",
       "    </tr>\n",
       "    <tr>\n",
       "      <th>Healthy</th>\n",
       "      <td>20</td>\n",
       "      <td>0</td>\n",
       "    </tr>\n",
       "  </tbody>\n",
       "</table>\n",
       "</div>"
      ],
      "text/plain": [
       "col_0      1   2\n",
       "label           \n",
       "Diseased   0  20\n",
       "Healthy   20   0"
      ]
     },
     "metadata": {},
     "output_type": "display_data"
    },
    {
     "name": "stdout",
     "output_type": "stream",
     "text": [
      "Method: ward\n"
     ]
    },
    {
     "data": {
      "text/html": [
       "<div>\n",
       "<style scoped>\n",
       "    .dataframe tbody tr th:only-of-type {\n",
       "        vertical-align: middle;\n",
       "    }\n",
       "\n",
       "    .dataframe tbody tr th {\n",
       "        vertical-align: top;\n",
       "    }\n",
       "\n",
       "    .dataframe thead th {\n",
       "        text-align: right;\n",
       "    }\n",
       "</style>\n",
       "<table border=\"1\" class=\"dataframe\">\n",
       "  <thead>\n",
       "    <tr style=\"text-align: right;\">\n",
       "      <th>col_0</th>\n",
       "      <th>1</th>\n",
       "      <th>2</th>\n",
       "    </tr>\n",
       "    <tr>\n",
       "      <th>label</th>\n",
       "      <th></th>\n",
       "      <th></th>\n",
       "    </tr>\n",
       "  </thead>\n",
       "  <tbody>\n",
       "    <tr>\n",
       "      <th>Diseased</th>\n",
       "      <td>20</td>\n",
       "      <td>0</td>\n",
       "    </tr>\n",
       "    <tr>\n",
       "      <th>Healthy</th>\n",
       "      <td>0</td>\n",
       "      <td>20</td>\n",
       "    </tr>\n",
       "  </tbody>\n",
       "</table>\n",
       "</div>"
      ],
      "text/plain": [
       "col_0      1   2\n",
       "label           \n",
       "Diseased  20   0\n",
       "Healthy    0  20"
      ]
     },
     "metadata": {},
     "output_type": "display_data"
    }
   ],
   "source": [
    "n_clusters = 2\n",
    "df_all = df.copy()\n",
    "df_all['label'] = 'Healthy'\n",
    "df_all.loc[20:, 'label'] = 'Diseased'\n",
    "\n",
    "for lin in ['single', 'complete', 'centroid', 'average', 'ward']:\n",
    "    Z = linkage(df, method=lin, metric='euclidean')\n",
    "    cls = fcluster(Z, n_clusters, criterion='maxclust')\n",
    "    print('Method:', lin)\n",
    "    display(pd.crosstab(df_all['label'], cls))"
   ]
  },
  {
   "cell_type": "markdown",
   "id": "acknowledged-marker",
   "metadata": {},
   "source": [
    "### Comparing with k-means:"
   ]
  },
  {
   "cell_type": "code",
   "execution_count": 9,
   "id": "governing-luxembourg",
   "metadata": {},
   "outputs": [],
   "source": [
    "n_cls = 2\n",
    "km = KMeans(n_clusters=n_cls, random_state=29)\n",
    "cls = km.fit_predict(df)"
   ]
  },
  {
   "cell_type": "code",
   "execution_count": 10,
   "id": "employed-sleeping",
   "metadata": {},
   "outputs": [
    {
     "name": "stdout",
     "output_type": "stream",
     "text": [
      "[1 1 1 1 1 1 1 1 1 1 1 1 1 1 1 1 1 1 1 1 0 0 0 0 0 0 0 0 0 0 0 0 0 0 0 0 0\n",
      " 0 0 0]\n"
     ]
    }
   ],
   "source": [
    "print(cls)"
   ]
  },
  {
   "cell_type": "markdown",
   "id": "wired-diabetes",
   "metadata": {},
   "source": [
    "### Compare with Naive Bayes Classifier:"
   ]
  },
  {
   "cell_type": "markdown",
   "id": "freelance-danish",
   "metadata": {},
   "source": [
    "#### Obtain X, y and generate train and test sets:"
   ]
  },
  {
   "cell_type": "code",
   "execution_count": 11,
   "id": "southwest-threat",
   "metadata": {},
   "outputs": [],
   "source": [
    "X = df.copy()\n",
    "y = np.array([0]*20+[1]*20)\n",
    "\n",
    "X_train, X_test, y_train, y_test = train_test_split(X, y, test_size=0.2, random_state=29)"
   ]
  },
  {
   "cell_type": "markdown",
   "id": "animal-shield",
   "metadata": {},
   "source": [
    "#### Gaussian Naive Bayes Classfier:"
   ]
  },
  {
   "cell_type": "code",
   "execution_count": 12,
   "id": "favorite-explanation",
   "metadata": {},
   "outputs": [
    {
     "data": {
      "text/plain": [
       "1.0"
      ]
     },
     "execution_count": 12,
     "metadata": {},
     "output_type": "execute_result"
    }
   ],
   "source": [
    "gnb = GaussianNB()\n",
    "model = gnb.fit(X_train, y_train)\n",
    "model.score(X_train, y_train)"
   ]
  },
  {
   "cell_type": "markdown",
   "id": "growing-bruce",
   "metadata": {},
   "source": [
    "#### Check accuracy of test set:"
   ]
  },
  {
   "cell_type": "code",
   "execution_count": 13,
   "id": "prompt-ranking",
   "metadata": {},
   "outputs": [
    {
     "name": "stdout",
     "output_type": "stream",
     "text": [
      "[0 0 0 0 0 0 0 0 0 0 0 0 0 0 0 0 0 0 0 0 1 1 1 1 1 1 1 1 1 1 1 1 1 1 1 1 1\n",
      " 1 1 1]\n"
     ]
    }
   ],
   "source": [
    "y_pred = model.predict(X_test)\n",
    "print(model.predict(X))"
   ]
  },
  {
   "cell_type": "code",
   "execution_count": 14,
   "id": "literary-genetics",
   "metadata": {},
   "outputs": [
    {
     "name": "stdout",
     "output_type": "stream",
     "text": [
      "1.0\n"
     ]
    }
   ],
   "source": [
    "print(accuracy_score(y_pred, y_test))"
   ]
  },
  {
   "cell_type": "markdown",
   "id": "developing-traveler",
   "metadata": {},
   "source": [
    "**Conclusion:** <br>\n",
    "_ Using k-means or hierarchical clustering both correctly classify the dataset into 2 groups: healthy and diseased <br>\n",
    "_ Naive Bayes Classifier also seems to classify this dataset well."
   ]
  },
  {
   "cell_type": "markdown",
   "id": "fatty-excess",
   "metadata": {},
   "source": [
    "### Finding out the genes differs the most between 2 groups:"
   ]
  },
  {
   "cell_type": "markdown",
   "id": "intense-slide",
   "metadata": {},
   "source": [
    "#### Conduct PCA:"
   ]
  },
  {
   "cell_type": "code",
   "execution_count": 15,
   "id": "german-separate",
   "metadata": {},
   "outputs": [],
   "source": [
    "sc = StandardScaler()\n",
    "df_std = sc.fit_transform(df)"
   ]
  },
  {
   "cell_type": "code",
   "execution_count": 16,
   "id": "pending-composer",
   "metadata": {},
   "outputs": [],
   "source": [
    "n_pca = 40\n",
    "pca = PCA(n_components=n_pca)\n",
    "df_pca = pca.fit_transform(df_std)"
   ]
  },
  {
   "cell_type": "code",
   "execution_count": 17,
   "id": "reported-junior",
   "metadata": {},
   "outputs": [
    {
     "name": "stdout",
     "output_type": "stream",
     "text": [
      "[8.10827317e-02 3.44924126e-02 3.29874146e-02 3.15626215e-02\n",
      " 3.08406794e-02 3.02618019e-02 2.91674728e-02 2.90062842e-02\n",
      " 2.89034620e-02 2.85311510e-02 2.82894439e-02 2.75642246e-02\n",
      " 2.69087959e-02 2.66950900e-02 2.60491442e-02 2.54689187e-02\n",
      " 2.53298812e-02 2.48927358e-02 2.42689264e-02 2.41076980e-02\n",
      " 2.38928249e-02 2.35379184e-02 2.30374845e-02 2.28677490e-02\n",
      " 2.21060767e-02 2.17253607e-02 2.15848888e-02 2.10858986e-02\n",
      " 2.05431537e-02 2.00149684e-02 1.97037824e-02 1.95072748e-02\n",
      " 1.93075929e-02 1.90020137e-02 1.79355324e-02 1.77952780e-02\n",
      " 1.70516264e-02 1.65957346e-02 1.62939509e-02 1.58280348e-32]\n",
      "[0.08108273 0.11557514 0.14856256 0.18012518 0.21096586 0.24122766\n",
      " 0.27039513 0.29940142 0.32830488 0.35683603 0.38512548 0.4126897\n",
      " 0.4395985  0.46629359 0.49234273 0.51781165 0.54314153 0.56803427\n",
      " 0.59230319 0.61641089 0.64030372 0.66384163 0.68687912 0.70974687\n",
      " 0.73185294 0.7535783  0.77516319 0.79624909 0.81679225 0.83680721\n",
      " 0.856511   0.87601827 0.89532586 0.91432788 0.93226341 0.95005869\n",
      " 0.96711031 0.98370605 1.         1.        ]\n"
     ]
    }
   ],
   "source": [
    "print(pca.explained_variance_ratio_)\n",
    "print(np.cumsum(pca.explained_variance_ratio_))"
   ]
  },
  {
   "cell_type": "code",
   "execution_count": 18,
   "id": "colonial-damages",
   "metadata": {},
   "outputs": [
    {
     "name": "stdout",
     "output_type": "stream",
     "text": [
      "33\n"
     ]
    }
   ],
   "source": [
    "for i in range(40):\n",
    "    if np.cumsum(pca.explained_variance_ratio_)[i]>0.9:\n",
    "        print(i)\n",
    "        break"
   ]
  },
  {
   "cell_type": "markdown",
   "id": "dynamic-account",
   "metadata": {},
   "source": [
    "Since we want to attain 90% of total variance, let's make use of the first 33 PCAs."
   ]
  },
  {
   "cell_type": "markdown",
   "id": "wired-collaboration",
   "metadata": {},
   "source": [
    "#### Graph of contribution:"
   ]
  },
  {
   "cell_type": "code",
   "execution_count": 19,
   "id": "sunrise-prescription",
   "metadata": {},
   "outputs": [
    {
     "data": {
      "image/png": "[encoded data removed]",
      "text/plain": [
       "<Figure size 432x288 with 1 Axes>"
      ]
     },
     "metadata": {
      "needs_background": "light"
     },
     "output_type": "display_data"
    }
   ],
   "source": [
    "xx = range(1, n_pca+1)\n",
    "plt.bar(xx, pca.explained_variance_ratio_)\n",
    "plt.step(xx, np.cumsum(pca.explained_variance_ratio_), where='mid')\n",
    "plt.ylabel('Explained variance ratio')\n",
    "plt.xlabel('Principal components')\n",
    "plt.show()"
   ]
  },
  {
   "cell_type": "code",
   "execution_count": 20,
   "id": "defined-asbestos",
   "metadata": {},
   "outputs": [],
   "source": [
    "n_pca = 33\n",
    "pca = PCA(n_components=n_pca)\n",
    "df_pca = pca.fit_transform(df_std)"
   ]
  },
  {
   "cell_type": "code",
   "execution_count": 21,
   "id": "coastal-violation",
   "metadata": {},
   "outputs": [
    {
     "data": {
      "text/plain": [
       "(33, 1000)"
      ]
     },
     "execution_count": 21,
     "metadata": {},
     "output_type": "execute_result"
    }
   ],
   "source": [
    "pca.components_.shape"
   ]
  },
  {
   "cell_type": "markdown",
   "id": "elder-picture",
   "metadata": {},
   "source": [
    "#### Get absolute values of the total loadings:"
   ]
  },
  {
   "cell_type": "code",
   "execution_count": 22,
   "id": "finished-advance",
   "metadata": {},
   "outputs": [
    {
     "name": "stdout",
     "output_type": "stream",
     "text": [
      "(1000,)\n"
     ]
    }
   ],
   "source": [
    "loadings = pd.Series(np.sum(pca.components_, 0))\n",
    "print(loadings.shape)"
   ]
  },
  {
   "cell_type": "code",
   "execution_count": 23,
   "id": "finnish-physics",
   "metadata": {},
   "outputs": [],
   "source": [
    "loadings = np.abs(loadings)"
   ]
  },
  {
   "cell_type": "markdown",
   "id": "numerical-phase",
   "metadata": {},
   "source": [
    "#### Genes differs the most between 2 groups:"
   ]
  },
  {
   "cell_type": "code",
   "execution_count": 24,
   "id": "acute-commercial",
   "metadata": {},
   "outputs": [
    {
     "name": "stdout",
     "output_type": "stream",
     "text": [
      "249    0.667855\n",
      "973    0.599611\n",
      "871    0.567435\n",
      "845    0.491063\n",
      "781    0.490861\n",
      "dtype: float64\n"
     ]
    }
   ],
   "source": [
    "print(loadings.nlargest(n=5, keep='first'))"
   ]
  }
 ],
 "metadata": {
  "kernelspec": {
   "display_name": "Python 3",
   "language": "python",
   "name": "python3"
  },
  "language_info": {
   "codemirror_mode": {
    "name": "ipython",
    "version": 3
   },
   "file_extension": ".py",
   "mimetype": "text/x-python",
   "name": "python",
   "nbconvert_exporter": "python",
   "pygments_lexer": "ipython3",
   "version": "3.8.8"
  }
 },
 "nbformat": 4,
 "nbformat_minor": 5
}
